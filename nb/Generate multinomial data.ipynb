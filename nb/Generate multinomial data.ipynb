{
 "cells": [
  {
   "cell_type": "code",
   "execution_count": 24,
   "id": "chemical-mystery",
   "metadata": {},
   "outputs": [
    {
     "name": "stdout",
     "output_type": "stream",
     "text": [
      "The autoreload extension is already loaded. To reload it, use:\n",
      "  %reload_ext autoreload\n"
     ]
    }
   ],
   "source": [
    "%load_ext autoreload\n",
    "%autoreload 2"
   ]
  },
  {
   "cell_type": "code",
   "execution_count": 25,
   "id": "technical-helena",
   "metadata": {},
   "outputs": [],
   "source": [
    "from crowdnalysis.cmdstan import StanMultinomialOptimizeConsensus, StanMultinomialEtaOptimizeConsensus\n",
    "from crowdnalysis.dawid_skene import DawidSkene\n",
    "import numpy as np\n",
    "import json"
   ]
  },
  {
   "cell_type": "code",
   "execution_count": 26,
   "id": "dominican-measure",
   "metadata": {},
   "outputs": [],
   "source": [
    "smoc = StanMultinomialOptimizeConsensus()\n",
    "ds = DawidSkene()"
   ]
  },
  {
   "cell_type": "code",
   "execution_count": 27,
   "id": "charitable-fireplace",
   "metadata": {},
   "outputs": [
    {
     "name": "stderr",
     "output_type": "stream",
     "text": [
      "INFO:cmdstanpy:found newer exe file, not recompiling\n",
      "INFO:cmdstanpy:compiled model file: /home/cerquide/prj/crowdnalysis/src/crowdnalysis/cmdstan/Multinomial.sample_tasks\n",
      "INFO:cmdstanpy:start chain 1\n",
      "INFO:cmdstanpy:finish chain 1\n",
      "INFO:cmdstanpy:found newer exe file, not recompiling\n",
      "INFO:cmdstanpy:compiled model file: /home/cerquide/prj/crowdnalysis/src/crowdnalysis/cmdstan/Multinomial.sample_annotations\n",
      "INFO:cmdstanpy:start chain 1\n",
      "INFO:cmdstanpy:finish chain 1\n"
     ]
    },
    {
     "name": "stdout",
     "output_type": "stream",
     "text": [
      "[[0.5  0.3  0.2 ]\n",
      " [0.2  0.6  0.2 ]\n",
      " [0.25 0.3  0.45]]\n"
     ]
    }
   ],
   "source": [
    "t = 1000\n",
    "num_annotations_per_task = 5\n",
    "real_tau = np.array([0.1, 0.3, 0.6])\n",
    "k = len(real_tau)\n",
    "real_pi = np.array([[0.5, 0.3, 0.2], [0.2, 0.6, 0.2], [0.25, 0.3, 0.45]]) \n",
    "print(real_pi)\n",
    "t_C, m = smoc.sample(t, num_annotations_per_task, parameters = {'tau':real_tau, 'pi':real_pi})"
   ]
  },
  {
   "cell_type": "code",
   "execution_count": 28,
   "id": "fuzzy-swiss",
   "metadata": {},
   "outputs": [
    {
     "data": {
      "text/plain": [
       "'Multinomial'"
      ]
     },
     "execution_count": 28,
     "metadata": {},
     "output_type": "execute_result"
    }
   ],
   "source": [
    "smoc.model_name"
   ]
  },
  {
   "cell_type": "code",
   "execution_count": 29,
   "id": "terminal-appeal",
   "metadata": {},
   "outputs": [
    {
     "data": {
      "text/plain": [
       "array([[  0,   0,   2],\n",
       "       [  0,   0,   2],\n",
       "       [  0,   0,   2],\n",
       "       ...,\n",
       "       [999,   0,   2],\n",
       "       [999,   0,   2],\n",
       "       [999,   0,   2]])"
      ]
     },
     "execution_count": 29,
     "metadata": {},
     "output_type": "execute_result"
    }
   ],
   "source": [
    "m"
   ]
  },
  {
   "cell_type": "code",
   "execution_count": 30,
   "id": "widespread-guatemala",
   "metadata": {},
   "outputs": [],
   "source": [
    "t_A = m[:,0]+1\n",
    "w_A = m[:,1]\n",
    "ann = m[:,2]+1\n",
    "w = 20\n",
    "#t = np.unique(t_A).shape[0]\n",
    "a = m.shape[0]\n",
    "for t_ in range(t):\n",
    "    w_A[t_*num_annotations_per_task:(t_+1)*num_annotations_per_task] = \\\n",
    "        np.random.choice(w, size=num_annotations_per_task, replace=False)\n",
    "#w_A += 1\n",
    "#w_A = np.random.choice(w, size=10)\n",
    "json_data = {'w': w,\n",
    "             't': t,\n",
    "             'a': a,\n",
    "             'k': k,\n",
    "             't_A': t_A.tolist(),\n",
    "             'w_A': w_A.tolist(),\n",
    "             'ann': ann.tolist()}"
   ]
  },
  {
   "cell_type": "code",
   "execution_count": 31,
   "id": "residential-stations",
   "metadata": {},
   "outputs": [
    {
     "name": "stdout",
     "output_type": "stream",
     "text": [
      "Max w_A: 19\n"
     ]
    }
   ],
   "source": [
    "print(\"Max w_A:\",np.max(w_A))\n",
    "with open('multinomial.json', 'w') as outfile:\n",
    "    json.dump(json_data, outfile, indent=2)"
   ]
  },
  {
   "cell_type": "code",
   "execution_count": 32,
   "id": "judicial-domain",
   "metadata": {},
   "outputs": [
    {
     "name": "stdout",
     "output_type": "stream",
     "text": [
      "5000\n",
      "[] []\n"
     ]
    }
   ],
   "source": [
    "print(a)\n",
    "print(m[9980:10000], t_A[9980:])"
   ]
  },
  {
   "cell_type": "code",
   "execution_count": 33,
   "id": "overhead-hunter",
   "metadata": {},
   "outputs": [
    {
     "ename": "NameError",
     "evalue": "name 'sm2oc' is not defined",
     "output_type": "error",
     "traceback": [
      "\u001b[0;31m---------------------------------------------------------------------------\u001b[0m",
      "\u001b[0;31mNameError\u001b[0m                                 Traceback (most recent call last)",
      "\u001b[0;32m<ipython-input-33-8d96f5ab6c99>\u001b[0m in \u001b[0;36m<module>\u001b[0;34m\u001b[0m\n\u001b[1;32m      1\u001b[0m \u001b[0msmetaoc\u001b[0m \u001b[0;34m=\u001b[0m \u001b[0mStanMultinomialEtaOptimizeConsensus\u001b[0m\u001b[0;34m(\u001b[0m\u001b[0;34m)\u001b[0m\u001b[0;34m\u001b[0m\u001b[0;34m\u001b[0m\u001b[0m\n\u001b[0;32m----> 2\u001b[0;31m \u001b[0mt_C\u001b[0m\u001b[0;34m,\u001b[0m \u001b[0md\u001b[0m \u001b[0;34m=\u001b[0m \u001b[0msm2oc\u001b[0m\u001b[0;34m.\u001b[0m\u001b[0mm_fit_and_compute_consensus\u001b[0m\u001b[0;34m(\u001b[0m\u001b[0mm\u001b[0m\u001b[0;34m,\u001b[0m \u001b[0mt\u001b[0m\u001b[0;34m,\u001b[0m \u001b[0mk\u001b[0m\u001b[0;34m,\u001b[0m \u001b[0mw\u001b[0m\u001b[0;34m)\u001b[0m\u001b[0;34m\u001b[0m\u001b[0;34m\u001b[0m\u001b[0m\n\u001b[0m\u001b[1;32m      3\u001b[0m \u001b[0md\u001b[0m\u001b[0;34m\u001b[0m\u001b[0;34m\u001b[0m\u001b[0m\n",
      "\u001b[0;31mNameError\u001b[0m: name 'sm2oc' is not defined"
     ]
    }
   ],
   "source": [
    "\n",
    "smetaoc = StanMultinomialEtaOptimizeConsensus()\n",
    "t_C, d = sm2oc.m_fit_and_compute_consensus(m, t, k, w)\n",
    "d"
   ]
  },
  {
   "cell_type": "code",
   "execution_count": 34,
   "id": "heated-binary",
   "metadata": {},
   "outputs": [
    {
     "name": "stderr",
     "output_type": "stream",
     "text": [
      "INFO:cmdstanpy:found newer exe file, not recompiling\n",
      "INFO:cmdstanpy:compiled model file: /home/cerquide/prj/crowdnalysis/src/crowdnalysis/cmdstan/MultinomialEta.fit_and_consensus\n",
      "INFO:cmdstanpy:start chain 1\n",
      "INFO:cmdstanpy:finish chain 1\n"
     ]
    },
    {
     "data": {
      "text/plain": [
       "{'tau': array([0.0790507, 0.479831 , 0.441118 ]),\n",
       " 'eta': array([[1.94038e-03, 2.57322e+00],\n",
       "        [9.58789e-01, 4.84955e-01],\n",
       "        [4.48598e-01, 6.35498e-01]]),\n",
       " 'pi': array([[0.482079 , 0.481144 , 0.0367774],\n",
       "        [0.191766 , 0.50023  , 0.308004 ],\n",
       "        [0.294495 , 0.244292 , 0.461213 ]]),\n",
       " 'log_p_t_C': array([[-13.9056 ,  -7.5702 ,  -5.58511],\n",
       "        [-13.9056 ,  -7.5702 ,  -5.58511],\n",
       "        [-11.3362 ,  -6.12646,  -6.40751],\n",
       "        ...,\n",
       "        [-11.3382 ,  -5.16767,  -6.59441],\n",
       "        [-13.9075 ,  -6.61142,  -5.77201],\n",
       "        [-13.9056 ,  -7.5702 ,  -5.58511]]),\n",
       " 't_C': array([[2.14030e-04, 1.20751e-01, 8.79035e-01],\n",
       "        [2.14030e-04, 1.20751e-01, 8.79035e-01],\n",
       "        [3.10312e-03, 5.68035e-01, 4.28862e-01],\n",
       "        ...,\n",
       "        [1.68267e-03, 8.05036e-01, 1.93282e-01],\n",
       "        [2.04537e-04, 3.01599e-01, 6.98197e-01],\n",
       "        [2.14030e-04, 1.20751e-01, 8.79035e-01]])}"
      ]
     },
     "execution_count": 34,
     "metadata": {},
     "output_type": "execute_result"
    }
   ],
   "source": [
    "t_C, d = smetaoc.m_fit_and_compute_consensus(m, t, k, w)\n",
    "d"
   ]
  },
  {
   "cell_type": "code",
   "execution_count": 35,
   "id": "historic-bargain",
   "metadata": {},
   "outputs": [
    {
     "data": {
      "text/plain": [
       "(array([[0.77975117, 0.01160843, 0.20864039],\n",
       "        [0.77975117, 0.01160843, 0.20864039],\n",
       "        [0.2541598 , 0.08971229, 0.65612791],\n",
       "        ...,\n",
       "        [0.08294018, 0.0746759 , 0.84238392],\n",
       "        [0.47831396, 0.01816356, 0.50352248],\n",
       "        [0.77975117, 0.01160843, 0.20864039]]),\n",
       " {'tau': array([0.30881001, 0.21229598, 0.47889401]),\n",
       "  'pi': array([[[0.3340998 , 0.20854758, 0.45735262],\n",
       "          [0.33733745, 0.53622389, 0.12643866],\n",
       "          [0.1770161 , 0.43448655, 0.38849734]]])})"
      ]
     },
     "execution_count": 35,
     "metadata": {},
     "output_type": "execute_result"
    }
   ],
   "source": [
    "m[:,1]=0\n",
    "a = ds.m_fit_and_compute_consensus(m, t, k, 1)\n",
    "a\n"
   ]
  },
  {
   "cell_type": "code",
   "execution_count": 36,
   "id": "similar-telephone",
   "metadata": {},
   "outputs": [
    {
     "ename": "ValueError",
     "evalue": "no such file /home/cerquide/prj/crowdnalysis/src/crowdnalysis/cmdstan/MultinomialEta.fit.stan",
     "output_type": "error",
     "traceback": [
      "\u001b[0;31m---------------------------------------------------------------------------\u001b[0m",
      "\u001b[0;31mValueError\u001b[0m                                Traceback (most recent call last)",
      "\u001b[0;32m<ipython-input-36-ade44882373e>\u001b[0m in \u001b[0;36m<module>\u001b[0;34m\u001b[0m\n\u001b[0;32m----> 1\u001b[0;31m \u001b[0md\u001b[0m \u001b[0;34m=\u001b[0m \u001b[0msmetaoc\u001b[0m\u001b[0;34m.\u001b[0m\u001b[0mm_fit\u001b[0m\u001b[0;34m(\u001b[0m\u001b[0mm\u001b[0m\u001b[0;34m,\u001b[0m \u001b[0mt\u001b[0m\u001b[0;34m,\u001b[0m \u001b[0mk\u001b[0m\u001b[0;34m,\u001b[0m \u001b[0mw\u001b[0m\u001b[0;34m,\u001b[0m \u001b[0mt_C\u001b[0m\u001b[0;34m)\u001b[0m\u001b[0;34m\u001b[0m\u001b[0;34m\u001b[0m\u001b[0m\n\u001b[0m\u001b[1;32m      2\u001b[0m \u001b[0md\u001b[0m\u001b[0;34m\u001b[0m\u001b[0;34m\u001b[0m\u001b[0m\n",
      "\u001b[0;32m~/prj/crowdnalysis/src/crowdnalysis/cmdstan.py\u001b[0m in \u001b[0;36mm_fit\u001b[0;34m(self, m, I, J, K, reference_consensus, **kwargs)\u001b[0m\n\u001b[1;32m    133\u001b[0m         \u001b[0mstan_data\u001b[0m\u001b[0;34m[\u001b[0m\u001b[0;34m't_C'\u001b[0m\u001b[0;34m]\u001b[0m \u001b[0;34m=\u001b[0m \u001b[0mreference_consensus\u001b[0m\u001b[0;34m\u001b[0m\u001b[0;34m\u001b[0m\u001b[0m\n\u001b[1;32m    134\u001b[0m \u001b[0;34m\u001b[0m\u001b[0m\n\u001b[0;32m--> 135\u001b[0;31m         \u001b[0mmodel\u001b[0m \u001b[0;34m=\u001b[0m \u001b[0mself\u001b[0m\u001b[0;34m.\u001b[0m\u001b[0mfit_model\u001b[0m\u001b[0;34m(\u001b[0m\u001b[0;34m)\u001b[0m\u001b[0;34m\u001b[0m\u001b[0;34m\u001b[0m\u001b[0m\n\u001b[0m\u001b[1;32m    136\u001b[0m         \u001b[0mresults\u001b[0m \u001b[0;34m=\u001b[0m \u001b[0mmodel\u001b[0m\u001b[0;34m.\u001b[0m\u001b[0moptimize\u001b[0m\u001b[0;34m(\u001b[0m\u001b[0mdata\u001b[0m\u001b[0;34m=\u001b[0m\u001b[0mstan_data\u001b[0m\u001b[0;34m,\u001b[0m \u001b[0minits\u001b[0m\u001b[0;34m=\u001b[0m\u001b[0minit_data\u001b[0m\u001b[0;34m,\u001b[0m \u001b[0;34m**\u001b[0m\u001b[0mkwargs\u001b[0m\u001b[0;34m)\u001b[0m\u001b[0;34m\u001b[0m\u001b[0;34m\u001b[0m\u001b[0m\n\u001b[1;32m    137\u001b[0m \u001b[0;34m\u001b[0m\u001b[0m\n",
      "\u001b[0;32m~/prj/crowdnalysis/src/crowdnalysis/cmdstan.py\u001b[0m in \u001b[0;36mfit_model\u001b[0;34m(self)\u001b[0m\n\u001b[1;32m    122\u001b[0m \u001b[0;34m\u001b[0m\u001b[0m\n\u001b[1;32m    123\u001b[0m     \u001b[0;32mdef\u001b[0m \u001b[0mfit_model\u001b[0m\u001b[0;34m(\u001b[0m\u001b[0mself\u001b[0m\u001b[0;34m)\u001b[0m\u001b[0;34m:\u001b[0m\u001b[0;34m\u001b[0m\u001b[0;34m\u001b[0m\u001b[0m\n\u001b[0;32m--> 124\u001b[0;31m         \u001b[0;32mreturn\u001b[0m \u001b[0mCmdStanModel\u001b[0m\u001b[0;34m(\u001b[0m\u001b[0mstan_file\u001b[0m\u001b[0;34m=\u001b[0m\u001b[0mresource_filename\u001b[0m\u001b[0;34m(\u001b[0m\u001b[0mself\u001b[0m\u001b[0;34m.\u001b[0m\u001b[0mmodel_name\u001b[0m \u001b[0;34m+\u001b[0m \u001b[0;34m\".fit.stan\"\u001b[0m\u001b[0;34m)\u001b[0m\u001b[0;34m)\u001b[0m\u001b[0;34m\u001b[0m\u001b[0;34m\u001b[0m\u001b[0m\n\u001b[0m\u001b[1;32m    125\u001b[0m \u001b[0;34m\u001b[0m\u001b[0m\n\u001b[1;32m    126\u001b[0m     \u001b[0;32mdef\u001b[0m \u001b[0mm_fit\u001b[0m\u001b[0;34m(\u001b[0m\u001b[0mself\u001b[0m\u001b[0;34m,\u001b[0m \u001b[0mm\u001b[0m\u001b[0;34m,\u001b[0m \u001b[0mI\u001b[0m\u001b[0;34m,\u001b[0m \u001b[0mJ\u001b[0m\u001b[0;34m,\u001b[0m \u001b[0mK\u001b[0m\u001b[0;34m,\u001b[0m \u001b[0mreference_consensus\u001b[0m\u001b[0;34m,\u001b[0m \u001b[0;34m**\u001b[0m\u001b[0mkwargs\u001b[0m\u001b[0;34m)\u001b[0m\u001b[0;34m:\u001b[0m\u001b[0;34m\u001b[0m\u001b[0;34m\u001b[0m\u001b[0m\n",
      "\u001b[0;32m~/prj/crowdnalysis/.venv/lib/python3.7/site-packages/cmdstanpy/model.py\u001b[0m in \u001b[0;36m__init__\u001b[0;34m(self, model_name, stan_file, exe_file, compile, stanc_options, cpp_options, logger)\u001b[0m\n\u001b[1;32m    102\u001b[0m             \u001b[0mself\u001b[0m\u001b[0;34m.\u001b[0m\u001b[0m_stan_file\u001b[0m \u001b[0;34m=\u001b[0m \u001b[0mos\u001b[0m\u001b[0;34m.\u001b[0m\u001b[0mpath\u001b[0m\u001b[0;34m.\u001b[0m\u001b[0mrealpath\u001b[0m\u001b[0;34m(\u001b[0m\u001b[0mos\u001b[0m\u001b[0;34m.\u001b[0m\u001b[0mpath\u001b[0m\u001b[0;34m.\u001b[0m\u001b[0mexpanduser\u001b[0m\u001b[0;34m(\u001b[0m\u001b[0mstan_file\u001b[0m\u001b[0;34m)\u001b[0m\u001b[0;34m)\u001b[0m\u001b[0;34m\u001b[0m\u001b[0;34m\u001b[0m\u001b[0m\n\u001b[1;32m    103\u001b[0m             \u001b[0;32mif\u001b[0m \u001b[0;32mnot\u001b[0m \u001b[0mos\u001b[0m\u001b[0;34m.\u001b[0m\u001b[0mpath\u001b[0m\u001b[0;34m.\u001b[0m\u001b[0mexists\u001b[0m\u001b[0;34m(\u001b[0m\u001b[0mself\u001b[0m\u001b[0;34m.\u001b[0m\u001b[0m_stan_file\u001b[0m\u001b[0;34m)\u001b[0m\u001b[0;34m:\u001b[0m\u001b[0;34m\u001b[0m\u001b[0;34m\u001b[0m\u001b[0m\n\u001b[0;32m--> 104\u001b[0;31m                 \u001b[0;32mraise\u001b[0m \u001b[0mValueError\u001b[0m\u001b[0;34m(\u001b[0m\u001b[0;34m'no such file {}'\u001b[0m\u001b[0;34m.\u001b[0m\u001b[0mformat\u001b[0m\u001b[0;34m(\u001b[0m\u001b[0mself\u001b[0m\u001b[0;34m.\u001b[0m\u001b[0m_stan_file\u001b[0m\u001b[0;34m)\u001b[0m\u001b[0;34m)\u001b[0m\u001b[0;34m\u001b[0m\u001b[0;34m\u001b[0m\u001b[0m\n\u001b[0m\u001b[1;32m    105\u001b[0m             \u001b[0m_\u001b[0m\u001b[0;34m,\u001b[0m \u001b[0mfilename\u001b[0m \u001b[0;34m=\u001b[0m \u001b[0mos\u001b[0m\u001b[0;34m.\u001b[0m\u001b[0mpath\u001b[0m\u001b[0;34m.\u001b[0m\u001b[0msplit\u001b[0m\u001b[0;34m(\u001b[0m\u001b[0mstan_file\u001b[0m\u001b[0;34m)\u001b[0m\u001b[0;34m\u001b[0m\u001b[0;34m\u001b[0m\u001b[0m\n\u001b[1;32m    106\u001b[0m             \u001b[0;32mif\u001b[0m \u001b[0mlen\u001b[0m\u001b[0;34m(\u001b[0m\u001b[0mfilename\u001b[0m\u001b[0;34m)\u001b[0m \u001b[0;34m<\u001b[0m \u001b[0;36m6\u001b[0m \u001b[0;32mor\u001b[0m \u001b[0;32mnot\u001b[0m \u001b[0mfilename\u001b[0m\u001b[0;34m.\u001b[0m\u001b[0mendswith\u001b[0m\u001b[0;34m(\u001b[0m\u001b[0;34m'.stan'\u001b[0m\u001b[0;34m)\u001b[0m\u001b[0;34m:\u001b[0m\u001b[0;34m\u001b[0m\u001b[0;34m\u001b[0m\u001b[0m\n",
      "\u001b[0;31mValueError\u001b[0m: no such file /home/cerquide/prj/crowdnalysis/src/crowdnalysis/cmdstan/MultinomialEta.fit.stan"
     ]
    }
   ],
   "source": [
    "d = smetaoc.m_fit(m, t, k, w, t_C)\n",
    "d"
   ]
  },
  {
   "cell_type": "code",
   "execution_count": 37,
   "id": "olympic-walker",
   "metadata": {},
   "outputs": [
    {
     "name": "stderr",
     "output_type": "stream",
     "text": [
      "INFO:cmdstanpy:found newer exe file, not recompiling\n",
      "INFO:cmdstanpy:compiled model file: /home/cerquide/prj/crowdnalysis/src/crowdnalysis/cmdstan/Multinomial.consensus\n",
      "INFO:cmdstanpy:start chain 1\n",
      "INFO:cmdstanpy:finish chain 1\n"
     ]
    },
    {
     "data": {
      "text/plain": [
       "(array([[2.14031e-04, 1.20751e-01, 8.79035e-01],\n",
       "        [2.14031e-04, 1.20751e-01, 8.79035e-01],\n",
       "        [3.10312e-03, 5.68035e-01, 4.28862e-01],\n",
       "        ...,\n",
       "        [1.68267e-03, 8.05036e-01, 1.93282e-01],\n",
       "        [2.04538e-04, 3.01599e-01, 6.98197e-01],\n",
       "        [2.14031e-04, 1.20751e-01, 8.79035e-01]]),\n",
       " {'algorithm': 'LBFGS', 'init_alpha': 0.01, 'output_dir': '.'})"
      ]
     },
     "execution_count": 37,
     "metadata": {},
     "output_type": "execute_result"
    }
   ],
   "source": [
    "d2 = smoc.m_compute_consensus(m, t, k, w, data=d)\n",
    "d2"
   ]
  },
  {
   "cell_type": "code",
   "execution_count": null,
   "id": "changed-perspective",
   "metadata": {},
   "outputs": [],
   "source": []
  },
  {
   "cell_type": "code",
   "execution_count": null,
   "id": "interesting-proxy",
   "metadata": {},
   "outputs": [],
   "source": []
  },
  {
   "cell_type": "code",
   "execution_count": null,
   "id": "employed-bottle",
   "metadata": {},
   "outputs": [],
   "source": []
  },
  {
   "cell_type": "code",
   "execution_count": null,
   "id": "floppy-canvas",
   "metadata": {},
   "outputs": [],
   "source": []
  }
 ],
 "metadata": {
  "kernelspec": {
   "display_name": "Python 3",
   "language": "python",
   "name": "python3"
  },
  "language_info": {
   "codemirror_mode": {
    "name": "ipython",
    "version": 3
   },
   "file_extension": ".py",
   "mimetype": "text/x-python",
   "name": "python",
   "nbconvert_exporter": "python",
   "pygments_lexer": "ipython3",
   "version": "3.7.4"
  }
 },
 "nbformat": 4,
 "nbformat_minor": 5
}
