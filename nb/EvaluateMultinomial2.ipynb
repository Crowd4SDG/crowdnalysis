{
 "cells": [
  {
   "cell_type": "code",
   "execution_count": 1,
   "id": "chemical-mystery",
   "metadata": {},
   "outputs": [],
   "source": [
    "%load_ext autoreload\n",
    "%autoreload 2"
   ]
  },
  {
   "cell_type": "code",
   "execution_count": 49,
   "id": "technical-helena",
   "metadata": {},
   "outputs": [],
   "source": [
    "\n",
    "from crowdnalysis.factory import Factory\n",
    "\n",
    "from crowdnalysis.dawid_skene import DawidSkene\n",
    "from crowdnalysis.simple import MajorityVoting\n",
    "import numpy as np\n",
    "import json"
   ]
  },
  {
   "cell_type": "code",
   "execution_count": 50,
   "id": "dominican-measure",
   "metadata": {},
   "outputs": [],
   "source": [
    "mv = Factory.make(\"MajorityVoting\")\n",
    "smoc = Factory.make(\"StanMultinomialOptimize\")\n",
    "smetaoc = Factory.make(\"StanMultinomialEtaOptimize\")\n",
    "sdsoc = Factory.make(\"StanDSOptimize\")\n",
    "sdsetaoc = Factory.make(\"StanDSEtaHOptimize\")\n",
    "ds = DawidSkene()"
   ]
  },
  {
   "cell_type": "code",
   "execution_count": 120,
   "id": "charitable-fireplace",
   "metadata": {
    "scrolled": true
   },
   "outputs": [
    {
     "name": "stdout",
     "output_type": "stream",
     "text": [
      "[[[0.5  0.3  0.2 ]\n",
      "  [0.2  0.6  0.2 ]\n",
      "  [0.25 0.3  0.45]]\n",
      "\n",
      " [[0.6  0.2  0.2 ]\n",
      "  [0.1  0.6  0.3 ]\n",
      "  [0.1  0.1  0.8 ]]]\n",
      "[1 0 2 ... 0 1 2]\n",
      "{'base': DiscreteConsensusProblem(n_tasks=10000, f_T=array([1, 0, 2, ..., 0, 1, 2]), n_workers=2, f_W=None, n_annotations=30000, t_A=array([   0,    0,    0, ..., 9999, 9999, 9999], dtype=int32), w_A=array([1, 0, 1, ..., 1, 0, 0], dtype=int32), f_A=array([[1],\n",
      "       [1],\n",
      "       [2],\n",
      "       ...,\n",
      "       [2],\n",
      "       [0],\n",
      "       [2]], dtype=int32), n_labels=3, classes=[0, 1, 2])}\n"
     ]
    }
   ],
   "source": [
    "\n",
    "\n",
    "t = 10000\n",
    "num_annotations_per_task = 3\n",
    "real_tau = np.array([0.1, 0.3, 0.6])\n",
    "k = len(real_tau)\n",
    "real_pi = np.array([\n",
    "    [[0.5, 0.3, 0.2], [0.2, 0.6, 0.2], [0.25, 0.3, 0.45]],\n",
    "    [[0.6, 0.2, 0.2], [0.1, 0.6, 0.3], [0.1, 0.1, 0.8]]\n",
    "    ]) \n",
    "print(real_pi)\n",
    "p = ds.Parameters(tau=real_tau, pi=real_pi)\n",
    "dgp = ds.DataGenerationParameters(n_tasks=t, n_annotations_per_task=num_annotations_per_task)\n",
    "tasks, crowds_dcps = ds.linked_samples(p,{\"base\":p},dgp)\n",
    "dcp = crowds_dcps[\"base\"]\n",
    "print(tasks)\n",
    "print(crowds_dcps)"
   ]
  },
  {
   "cell_type": "code",
   "execution_count": 121,
   "id": "elect-aerospace",
   "metadata": {},
   "outputs": [
    {
     "name": "stdout",
     "output_type": "stream",
     "text": [
      "(array([0, 1, 2], dtype=int32), array([ 6027,  9882, 14091]))\n",
      "[0, 1, 2]\n"
     ]
    }
   ],
   "source": [
    "print(np.unique(dcp.f_A,return_counts=True))\n",
    "print(dcp.classes)"
   ]
  },
  {
   "cell_type": "code",
   "execution_count": 122,
   "id": "widespread-guatemala",
   "metadata": {},
   "outputs": [],
   "source": [
    "t_A = dcp.t_A + 1\n",
    "w_A = dcp.w_A + 1\n",
    "ann = dcp.f_A + 1\n",
    "w = 1\n",
    "#t = np.unique(t_A).shape[0]\n",
    "a = len(ann)\n",
    "json_data = {'w': w,\n",
    "             't': t,\n",
    "             'a': a,\n",
    "             'k': k,\n",
    "             't_A': t_A.tolist(),\n",
    "             'w_A': w_A.tolist(),\n",
    "             'ann': ann.tolist()}"
   ]
  },
  {
   "cell_type": "code",
   "execution_count": 123,
   "id": "residential-stations",
   "metadata": {},
   "outputs": [
    {
     "name": "stdout",
     "output_type": "stream",
     "text": [
      "Max w_A: 2\n"
     ]
    }
   ],
   "source": [
    "print(\"Max w_A:\",np.max(w_A))\n",
    "with open('multinomial.json', 'w') as outfile:\n",
    "    json.dump(json_data, outfile, indent=2)"
   ]
  },
  {
   "cell_type": "code",
   "execution_count": 124,
   "id": "rotary-hunger",
   "metadata": {},
   "outputs": [],
   "source": [
    "def print_vars(d,v):\n",
    "    for name in v:\n",
    "        if name in d:\n",
    "            print(name,\"=\",d[name])"
   ]
  },
  {
   "cell_type": "code",
   "execution_count": 125,
   "id": "collected-myanmar",
   "metadata": {},
   "outputs": [],
   "source": [
    "def err_rate(t_C, t_C_m):\n",
    "    max_t_C_m = np.argmax(t_C_m,axis=1)\n",
    "    #print(max_t_C_m)\n",
    "    return 1-(np.sum(t_C==max_t_C_m)/len(t_C))\n",
    "\n",
    "def log_score(t_C, t_C_m):\n",
    "    f = t_C_m.flatten()\n",
    "    start = k*np.arange(t)\n",
    "    return np.sum(np.log(f[start+t_C]))"
   ]
  },
  {
   "cell_type": "code",
   "execution_count": 127,
   "id": "anonymous-clinton",
   "metadata": {},
   "outputs": [
    {
     "name": "stderr",
     "output_type": "stream",
     "text": [
      "/home/cerquide/prj/crowdnalysis/.venv/lib/python3.7/site-packages/ipykernel_launcher.py:9: RuntimeWarning: divide by zero encountered in log\n",
      "  if __name__ == '__main__':\n",
      "INFO:cmdstanpy:found newer exe file, not recompiling\n",
      "INFO:cmdstanpy:compiled model file: /home/cerquide/prj/crowdnalysis/src/crowdnalysis/cmdstan/cmdstan/Multinomial.fit_and_consensus\n",
      "INFO:crowdnalysis:dict_keys(['w', 't', 'a', 'k', 'l', 'classes', 't_A', 'w_A', 'ann', 'tau_prior', 'pi_prior'])\n",
      "INFO:crowdnalysis:Type of w is <class 'int'>\n",
      "INFO:crowdnalysis:Type of t is <class 'int'>\n",
      "INFO:crowdnalysis:Type of a is <class 'int'>\n",
      "INFO:crowdnalysis:Type of k is <class 'int'>\n",
      "INFO:crowdnalysis:Type of l is <class 'int'>\n",
      "INFO:crowdnalysis:Type of classes is <class 'numpy.ndarray'>\n",
      "INFO:crowdnalysis:Type of t_A is <class 'numpy.ndarray'>\n",
      "INFO:crowdnalysis:Type of w_A is <class 'numpy.ndarray'>\n",
      "INFO:crowdnalysis:Type of ann is <class 'numpy.ndarray'>\n",
      "INFO:crowdnalysis:Type of tau_prior is <class 'numpy.ndarray'>\n",
      "INFO:crowdnalysis:Type of pi_prior is <class 'numpy.ndarray'>\n",
      "INFO:crowdnalysis:{'tau': array([0.25311033, 0.28231533, 0.46457433]), 'pi': array([[0.84615385, 0.07692308, 0.07692308],\n",
      "       [0.07692308, 0.84615385, 0.07692308],\n",
      "       [0.07692308, 0.07692308, 0.84615385]])}\n",
      "INFO:cmdstanpy:start chain 1\n"
     ]
    },
    {
     "name": "stdout",
     "output_type": "stream",
     "text": [
      "Real parameters\n",
      "tau= [0.1 0.3 0.6]\n",
      "pi= [[[0.5  0.3  0.2 ]\n",
      "  [0.2  0.6  0.2 ]\n",
      "  [0.25 0.3  0.45]]\n",
      "\n",
      " [[0.6  0.2  0.2 ]\n",
      "  [0.1  0.6  0.3 ]\n",
      "  [0.1  0.1  0.8 ]]]\n",
      "*********\n",
      "MajorityVoting\n",
      "MajorityVoting.Parameters()\n",
      "error_rate: 0.32299999999999995\n",
      "log_score: -inf\n",
      "*********\n",
      "StanMultinomialOptimize\n"
     ]
    },
    {
     "name": "stderr",
     "output_type": "stream",
     "text": [
      "INFO:cmdstanpy:finish chain 1\n"
     ]
    },
    {
     "name": "stdout",
     "output_type": "stream",
     "text": [
      "StanMultinomialOptimizeConsensus.Parameters(tau=array([0.13817096, 0.32873752, 0.53309152]), pi=array([[0.49611571, 0.22590417, 0.27798012],\n",
      "       [0.14426072, 0.60073108, 0.25500819],\n",
      "       [0.15987577, 0.18893958, 0.65118465]]))\n",
      "error_rate: 0.2651\n",
      "log_score: -6357.0651734685725\n",
      "*********\n",
      "DawidSkene\n"
     ]
    },
    {
     "name": "stderr",
     "output_type": "stream",
     "text": [
      "INFO:crowdnalysis:DS has converged in 165 iterations\n",
      "INFO:cmdstanpy:found newer exe file, not recompiling\n",
      "INFO:cmdstanpy:compiled model file: /home/cerquide/prj/crowdnalysis/src/crowdnalysis/cmdstan/cmdstan/MultinomialEta.fit_and_consensus\n",
      "INFO:crowdnalysis:dict_keys(['w', 't', 'a', 'k', 'l', 'classes', 't_A', 'w_A', 'ann', 'tau_prior', 'eta_alpha_prior', 'eta_beta_prior'])\n",
      "INFO:crowdnalysis:Type of w is <class 'int'>\n",
      "INFO:crowdnalysis:Type of t is <class 'int'>\n",
      "INFO:crowdnalysis:Type of a is <class 'int'>\n",
      "INFO:crowdnalysis:Type of k is <class 'int'>\n",
      "INFO:crowdnalysis:Type of l is <class 'int'>\n",
      "INFO:crowdnalysis:Type of classes is <class 'numpy.ndarray'>\n",
      "INFO:crowdnalysis:Type of t_A is <class 'numpy.ndarray'>\n",
      "INFO:crowdnalysis:Type of w_A is <class 'numpy.ndarray'>\n",
      "INFO:crowdnalysis:Type of ann is <class 'numpy.ndarray'>\n",
      "INFO:crowdnalysis:Type of tau_prior is <class 'numpy.ndarray'>\n",
      "INFO:crowdnalysis:Type of eta_alpha_prior is <class 'numpy.ndarray'>\n",
      "INFO:crowdnalysis:Type of eta_beta_prior is <class 'numpy.ndarray'>\n",
      "INFO:crowdnalysis:{'tau': array([0.25311033, 0.28231533, 0.46457433]), 'eta': array([[1., 1.],\n",
      "       [1., 1.],\n",
      "       [1., 1.]])}\n",
      "INFO:cmdstanpy:start chain 1\n"
     ]
    },
    {
     "name": "stdout",
     "output_type": "stream",
     "text": [
      "DawidSkene.Parameters(tau=array([0.12485629, 0.31163664, 0.56350707]), pi=array([[[0.44577513, 0.27854605, 0.27567881],\n",
      "        [0.18250221, 0.62372079, 0.193777  ],\n",
      "        [0.24290022, 0.29958217, 0.45751761]],\n",
      "\n",
      "       [[0.57584889, 0.1745026 , 0.24964851],\n",
      "        [0.10696023, 0.59916385, 0.29387592],\n",
      "        [0.08335818, 0.09213695, 0.82450487]]]))\n",
      "error_rate: 0.24150000000000005\n",
      "log_score: -5968.139399556444\n",
      "*********\n",
      "StanMultinomialEtaOptimize\n"
     ]
    },
    {
     "name": "stderr",
     "output_type": "stream",
     "text": [
      "INFO:cmdstanpy:finish chain 1\n",
      "INFO:cmdstanpy:found newer exe file, not recompiling\n",
      "INFO:cmdstanpy:compiled model file: /home/cerquide/prj/crowdnalysis/src/crowdnalysis/cmdstan/cmdstan/MultinomialEta.fit_and_consensus\n",
      "INFO:crowdnalysis:dict_keys(['w', 't', 'a', 'k', 'l', 'classes', 't_A', 'w_A', 'ann', 'tau_prior', 'eta_alpha_prior', 'eta_beta_prior'])\n",
      "INFO:crowdnalysis:Type of w is <class 'int'>\n",
      "INFO:crowdnalysis:Type of t is <class 'int'>\n",
      "INFO:crowdnalysis:Type of a is <class 'int'>\n",
      "INFO:crowdnalysis:Type of k is <class 'int'>\n",
      "INFO:crowdnalysis:Type of l is <class 'int'>\n",
      "INFO:crowdnalysis:Type of classes is <class 'numpy.ndarray'>\n",
      "INFO:crowdnalysis:Type of t_A is <class 'numpy.ndarray'>\n",
      "INFO:crowdnalysis:Type of w_A is <class 'numpy.ndarray'>\n",
      "INFO:crowdnalysis:Type of ann is <class 'numpy.ndarray'>\n",
      "INFO:crowdnalysis:Type of tau_prior is <class 'numpy.ndarray'>\n",
      "INFO:crowdnalysis:Type of eta_alpha_prior is <class 'numpy.ndarray'>\n",
      "INFO:crowdnalysis:Type of eta_beta_prior is <class 'numpy.ndarray'>\n",
      "INFO:crowdnalysis:{'tau': array([0.25311033, 0.28231533, 0.46457433]), 'eta': array([[1., 1.],\n",
      "       [1., 1.],\n",
      "       [1., 1.]])}\n",
      "INFO:cmdstanpy:start chain 1\n"
     ]
    },
    {
     "name": "stdout",
     "output_type": "stream",
     "text": [
      "StanMultinomialEtaOptimizeConsensus.Parameters(tau=array([0.12193963, 0.33082948, 0.54723089]), eta=array([[0.84975497, 0.68193728],\n",
      "       [1.4117387 , 0.85952437],\n",
      "       [1.37340851, 1.22394311]]), pi=array([[0.51728878, 0.22115113, 0.26156008],\n",
      "       [0.14619502, 0.59985032, 0.25395467],\n",
      "       [0.16366611, 0.19005126, 0.64628264]]))\n",
      "error_rate: 0.24719999999999998\n",
      "log_score: -6282.021429289687\n",
      "*********\n",
      "StanDSOptimize\n"
     ]
    },
    {
     "name": "stderr",
     "output_type": "stream",
     "text": [
      "INFO:cmdstanpy:finish chain 1\n",
      "INFO:cmdstanpy:found newer exe file, not recompiling\n",
      "INFO:cmdstanpy:compiled model file: /home/cerquide/prj/crowdnalysis/src/crowdnalysis/cmdstan/cmdstan/DS.fit_and_consensus\n",
      "INFO:crowdnalysis:dict_keys(['w', 't', 'a', 'k', 'l', 'classes', 't_A', 'w_A', 'ann', 'tau_prior', 'pi_prior'])\n",
      "INFO:crowdnalysis:Type of w is <class 'int'>\n",
      "INFO:crowdnalysis:Type of t is <class 'int'>\n",
      "INFO:crowdnalysis:Type of a is <class 'int'>\n",
      "INFO:crowdnalysis:Type of k is <class 'int'>\n",
      "INFO:crowdnalysis:Type of l is <class 'int'>\n",
      "INFO:crowdnalysis:Type of classes is <class 'numpy.ndarray'>\n",
      "INFO:crowdnalysis:Type of t_A is <class 'numpy.ndarray'>\n",
      "INFO:crowdnalysis:Type of w_A is <class 'numpy.ndarray'>\n",
      "INFO:crowdnalysis:Type of ann is <class 'numpy.ndarray'>\n",
      "INFO:crowdnalysis:Type of tau_prior is <class 'numpy.ndarray'>\n",
      "INFO:crowdnalysis:Type of pi_prior is <class 'numpy.ndarray'>\n",
      "INFO:crowdnalysis:{'tau': array([0.12193963, 0.33082948, 0.54723089]), 'pi': array([[[0.51728878, 0.22115113, 0.26156008],\n",
      "        [0.14619502, 0.59985032, 0.25395467],\n",
      "        [0.16366611, 0.19005126, 0.64628264]],\n",
      "\n",
      "       [[0.51728878, 0.22115113, 0.26156008],\n",
      "        [0.14619502, 0.59985032, 0.25395467],\n",
      "        [0.16366611, 0.19005126, 0.64628264]]])}\n",
      "INFO:cmdstanpy:start chain 1\n",
      "INFO:cmdstanpy:finish chain 1\n",
      "INFO:cmdstanpy:found newer exe file, not recompiling\n",
      "INFO:cmdstanpy:compiled model file: /home/cerquide/prj/crowdnalysis/src/crowdnalysis/cmdstan/cmdstan/DSEtaH.fit_and_consensus\n",
      "INFO:crowdnalysis:dict_keys(['w', 't', 'a', 'k', 'l', 'classes', 't_A', 'w_A', 'ann', 'tau_prior', 'eta_alpha_prior', 'eta_beta_prior'])\n",
      "INFO:crowdnalysis:Type of w is <class 'int'>\n",
      "INFO:crowdnalysis:Type of t is <class 'int'>\n",
      "INFO:crowdnalysis:Type of a is <class 'int'>\n",
      "INFO:crowdnalysis:Type of k is <class 'int'>\n",
      "INFO:crowdnalysis:Type of l is <class 'int'>\n",
      "INFO:crowdnalysis:Type of classes is <class 'numpy.ndarray'>\n",
      "INFO:crowdnalysis:Type of t_A is <class 'numpy.ndarray'>\n",
      "INFO:crowdnalysis:Type of w_A is <class 'numpy.ndarray'>\n",
      "INFO:crowdnalysis:Type of ann is <class 'numpy.ndarray'>\n",
      "INFO:crowdnalysis:Type of tau_prior is <class 'numpy.ndarray'>\n",
      "INFO:crowdnalysis:Type of eta_alpha_prior is <class 'numpy.ndarray'>\n",
      "INFO:crowdnalysis:Type of eta_beta_prior is <class 'numpy.ndarray'>\n",
      "INFO:crowdnalysis:{'tau': array([0.25311033, 0.28231533, 0.46457433]), 'eta': array([[5., 5.],\n",
      "       [5., 5.],\n",
      "       [5., 5.]]), 'pi': array([[[0.98670329, 0.00664835, 0.00664835],\n",
      "        [0.00664835, 0.98670329, 0.00664835],\n",
      "        [0.00664835, 0.00664835, 0.98670329]],\n",
      "\n",
      "       [[0.98670329, 0.00664835, 0.00664835],\n",
      "        [0.00664835, 0.98670329, 0.00664835],\n",
      "        [0.00664835, 0.00664835, 0.98670329]]])}\n",
      "INFO:cmdstanpy:start chain 1\n"
     ]
    },
    {
     "name": "stdout",
     "output_type": "stream",
     "text": [
      "StanDSOptimizeConsensus.Parameters(tau=array([0.09990521, 0.31776175, 0.58233304]), pi=array([[[0.48240963, 0.25948933, 0.25810103],\n",
      "        [0.18480674, 0.62232709, 0.19286617],\n",
      "        [0.24490786, 0.2991577 , 0.45593444]],\n",
      "\n",
      "       [[0.63849156, 0.15734124, 0.2041672 ],\n",
      "        [0.11371672, 0.5971929 , 0.28909038],\n",
      "        [0.09004056, 0.09442421, 0.81553523]]]))\n",
      "error_rate: 0.2389\n",
      "log_score: -5912.877714891227\n",
      "*********\n",
      "StanDSEtaHOptimize\n",
      "eta: [[5. 5.]\n",
      " [5. 5.]\n",
      " [5. 5.]]\n",
      "old_pi_prior: [[11.  1.  1.]\n",
      " [ 1. 11.  1.]\n",
      " [ 1.  1. 11.]]\n",
      "pi_prior: [[0.98670329 0.00664835 0.00664835]\n",
      " [0.00664835 0.98670329 0.00664835]\n",
      " [0.00664835 0.00664835 0.98670329]]\n",
      "param: [[[0.98670329 0.00664835 0.00664835]\n",
      "  [0.00664835 0.98670329 0.00664835]\n",
      "  [0.00664835 0.00664835 0.98670329]]\n",
      "\n",
      " [[0.98670329 0.00664835 0.00664835]\n",
      "  [0.00664835 0.98670329 0.00664835]\n",
      "  [0.00664835 0.00664835 0.98670329]]]\n",
      "tau_init = [0.25311033 0.28231533 0.46457433]\n"
     ]
    },
    {
     "name": "stderr",
     "output_type": "stream",
     "text": [
      "INFO:cmdstanpy:finish chain 1\n"
     ]
    },
    {
     "name": "stdout",
     "output_type": "stream",
     "text": [
      "StanDSOptimizeConsensus.Parameters(tau=array([0.11275946, 0.29960391, 0.58763664]), pi=array([[[0.47619684, 0.26657692, 0.25722624],\n",
      "        [0.1773302 , 0.63280997, 0.18985983],\n",
      "        [0.24209421, 0.30148989, 0.45641591]],\n",
      "\n",
      "       [[0.59080767, 0.18138261, 0.22780972],\n",
      "        [0.11040813, 0.60872606, 0.2808658 ],\n",
      "        [0.08981033, 0.09980814, 0.81038152]]]))\n",
      "error_rate: 0.2388\n",
      "log_score: -5916.3952891745585\n"
     ]
    }
   ],
   "source": [
    "print(\"Real parameters\")\n",
    "print(\"tau=\",real_tau)\n",
    "print(\"pi=\",real_pi)\n",
    "for model in [mv, smoc, ds, smetaoc, sdsoc, sdsetaoc]:\n",
    "#for model in [mv, sdsetaoc]:\n",
    "    print(\"*********\")\n",
    "    print(model.name)\n",
    "    t_C, params = model.fit_and_compute_consensus(dcp)\n",
    "    print(params)\n",
    "    print(\"error_rate:\", err_rate(tasks, t_C))\n",
    "    print(\"log_score:\", log_score(tasks, t_C))\n",
    "    #print(d.keys())\n",
    "    #print_vars(d,[\"p\",\"_pi\",\"tau\",\"pi\"])\n",
    "    #if \"p\" in d:\n",
    "    #    print (d['p'],d['pi_'])\n",
    "    #else:\n",
    "    #    print(d['tau'],d['pi'])"
   ]
  },
  {
   "cell_type": "code",
   "execution_count": null,
   "id": "heated-binary",
   "metadata": {},
   "outputs": [],
   "source": []
  },
  {
   "cell_type": "code",
   "execution_count": null,
   "id": "historic-bargain",
   "metadata": {},
   "outputs": [],
   "source": []
  },
  {
   "cell_type": "code",
   "execution_count": null,
   "id": "similar-telephone",
   "metadata": {},
   "outputs": [],
   "source": []
  },
  {
   "cell_type": "code",
   "execution_count": null,
   "id": "olympic-walker",
   "metadata": {},
   "outputs": [],
   "source": []
  },
  {
   "cell_type": "code",
   "execution_count": null,
   "id": "changed-perspective",
   "metadata": {},
   "outputs": [],
   "source": []
  },
  {
   "cell_type": "code",
   "execution_count": null,
   "id": "meaning-identity",
   "metadata": {},
   "outputs": [],
   "source": []
  },
  {
   "cell_type": "code",
   "execution_count": null,
   "id": "monthly-consumer",
   "metadata": {},
   "outputs": [],
   "source": []
  },
  {
   "cell_type": "code",
   "execution_count": null,
   "id": "social-roman",
   "metadata": {},
   "outputs": [],
   "source": []
  }
 ],
 "metadata": {
  "kernelspec": {
   "display_name": "Python 3",
   "language": "python",
   "name": "python3"
  },
  "language_info": {
   "codemirror_mode": {
    "name": "ipython",
    "version": 3
   },
   "file_extension": ".py",
   "mimetype": "text/x-python",
   "name": "python",
   "nbconvert_exporter": "python",
   "pygments_lexer": "ipython3",
   "version": "3.7.4"
  }
 },
 "nbformat": 4,
 "nbformat_minor": 5
}
