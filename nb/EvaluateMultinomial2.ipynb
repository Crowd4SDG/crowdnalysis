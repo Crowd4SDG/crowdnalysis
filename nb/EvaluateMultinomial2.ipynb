{
 "cells": [
  {
   "cell_type": "code",
   "execution_count": 103,
   "id": "chemical-mystery",
   "metadata": {},
   "outputs": [
    {
     "name": "stdout",
     "output_type": "stream",
     "text": [
      "The autoreload extension is already loaded. To reload it, use:\n",
      "  %reload_ext autoreload\n"
     ]
    }
   ],
   "source": [
    "%load_ext autoreload\n",
    "%autoreload 2"
   ]
  },
  {
   "cell_type": "code",
   "execution_count": 104,
   "id": "technical-helena",
   "metadata": {},
   "outputs": [],
   "source": [
    "from crowdnalysis.cmdstan import StanMultinomialOptimizeConsensus, \\\n",
    "    StanMultinomialEtaOptimizeConsensus, \\\n",
    "    StanDSOptimizeConsensus, \\\n",
    "    StanDSEtaOptimizeConsensus\n",
    "from crowdnalysis.dawid_skene import DawidSkene\n",
    "from crowdnalysis.majority_voting import MajorityVoting\n",
    "import numpy as np\n",
    "import json"
   ]
  },
  {
   "cell_type": "code",
   "execution_count": 105,
   "id": "dominican-measure",
   "metadata": {},
   "outputs": [],
   "source": [
    "mv = MajorityVoting()\n",
    "smoc = StanMultinomialOptimizeConsensus()\n",
    "smetaoc = StanMultinomialEtaOptimizeConsensus()\n",
    "sdsoc = StanDSOptimizeConsensus()\n",
    "sdsetaoc = StanDSEtaOptimizeConsensus()\n",
    "ds = DawidSkene()"
   ]
  },
  {
   "cell_type": "code",
   "execution_count": 106,
   "id": "charitable-fireplace",
   "metadata": {},
   "outputs": [
    {
     "name": "stderr",
     "output_type": "stream",
     "text": [
      "INFO:cmdstanpy:found newer exe file, not recompiling\n",
      "INFO:cmdstanpy:compiled model file: /home/cerquide/prj/crowdnalysis/src/crowdnalysis/cmdstan/Multinomial.sample_tasks\n",
      "INFO:cmdstanpy:start chain 1\n",
      "INFO:cmdstanpy:finish chain 1\n",
      "INFO:cmdstanpy:found newer exe file, not recompiling\n",
      "INFO:cmdstanpy:compiled model file: /home/cerquide/prj/crowdnalysis/src/crowdnalysis/cmdstan/Multinomial.sample_annotations\n",
      "INFO:cmdstanpy:start chain 1\n"
     ]
    },
    {
     "name": "stdout",
     "output_type": "stream",
     "text": [
      "[[0.5  0.3  0.2 ]\n",
      " [0.2  0.6  0.2 ]\n",
      " [0.25 0.3  0.45]]\n"
     ]
    },
    {
     "name": "stderr",
     "output_type": "stream",
     "text": [
      "INFO:cmdstanpy:finish chain 1\n"
     ]
    },
    {
     "name": "stdout",
     "output_type": "stream",
     "text": [
      "[2 2 2 ... 2 2 2]\n"
     ]
    }
   ],
   "source": [
    "t = 10000\n",
    "num_annotations_per_task = 20\n",
    "real_tau = np.array([0.1, 0.3, 0.6])\n",
    "k = len(real_tau)\n",
    "real_pi = np.array([[0.5, 0.3, 0.2], [0.2, 0.6, 0.2], [0.25, 0.3, 0.45]]) \n",
    "print(real_pi)\n",
    "t_C, m = smoc.sample(t, num_annotations_per_task, parameters = {'tau':real_tau, 'pi':real_pi})\n",
    "print(t_C)"
   ]
  },
  {
   "cell_type": "code",
   "execution_count": 107,
   "id": "terminal-appeal",
   "metadata": {},
   "outputs": [
    {
     "data": {
      "text/plain": [
       "array([[   0,    0,    0],\n",
       "       [   0,    0,    2],\n",
       "       [   0,    0,    0],\n",
       "       ...,\n",
       "       [9999,    0,    1],\n",
       "       [9999,    0,    0],\n",
       "       [9999,    0,    2]])"
      ]
     },
     "execution_count": 107,
     "metadata": {},
     "output_type": "execute_result"
    }
   ],
   "source": [
    "m"
   ]
  },
  {
   "cell_type": "code",
   "execution_count": 108,
   "id": "widespread-guatemala",
   "metadata": {},
   "outputs": [],
   "source": [
    "t_A = m[:,0]+1\n",
    "w_A = m[:,1]\n",
    "ann = m[:,2]+1\n",
    "w = 1\n",
    "#t = np.unique(t_A).shape[0]\n",
    "a = m.shape[0]\n",
    "json_data = {'w': w,\n",
    "             't': t,\n",
    "             'a': a,\n",
    "             'k': k,\n",
    "             't_A': t_A.tolist(),\n",
    "             'w_A': w_A.tolist(),\n",
    "             'ann': ann.tolist()}"
   ]
  },
  {
   "cell_type": "code",
   "execution_count": 109,
   "id": "residential-stations",
   "metadata": {},
   "outputs": [
    {
     "name": "stdout",
     "output_type": "stream",
     "text": [
      "Max w_A: 0\n"
     ]
    }
   ],
   "source": [
    "print(\"Max w_A:\",np.max(w_A))\n",
    "with open('multinomial.json', 'w') as outfile:\n",
    "    json.dump(json_data, outfile, indent=2)"
   ]
  },
  {
   "cell_type": "code",
   "execution_count": 110,
   "id": "rotary-hunger",
   "metadata": {},
   "outputs": [],
   "source": [
    "def print_vars(d,v):\n",
    "    for name in v:\n",
    "        if name in d:\n",
    "            print(name,\"=\",d[name])"
   ]
  },
  {
   "cell_type": "code",
   "execution_count": 111,
   "id": "collected-myanmar",
   "metadata": {},
   "outputs": [],
   "source": [
    "def err_rate(t_C, t_C_m):\n",
    "    max_t_C_m = np.argmax(t_C_m,axis=1)\n",
    "    #print(max_t_C_m)\n",
    "    return 1-(np.sum(t_C==max_t_C_m)/len(t_C))\n",
    "def log_score(t_C, t_C_m):\n",
    "    f = t_C_m.flatten()\n",
    "    start = k*np.arange(t)\n",
    "    return np.sum(np.log(f[start+t_C]))"
   ]
  },
  {
   "cell_type": "code",
   "execution_count": 112,
   "id": "anonymous-clinton",
   "metadata": {},
   "outputs": [
    {
     "name": "stdout",
     "output_type": "stream",
     "text": [
      "Real parameters\n",
      "tau= [0.1 0.3 0.6]\n",
      "pi= [[0.5  0.3  0.2 ]\n",
      " [0.2  0.6  0.2 ]\n",
      " [0.25 0.3  0.45]]\n",
      "*********\n",
      "MajorityVoting\n"
     ]
    },
    {
     "name": "stderr",
     "output_type": "stream",
     "text": [
      "/home/cerquide/prj/crowdnalysis/.venv/lib/python3.7/site-packages/ipykernel_launcher.py:8: RuntimeWarning: divide by zero encountered in log\n",
      "  \n",
      "/home/cerquide/prj/crowdnalysis/.venv/lib/python3.7/site-packages/ipykernel_launcher.py:3: FutureWarning: elementwise comparison failed; returning scalar instead, but in the future will perform elementwise comparison\n",
      "  This is separate from the ipykernel package so we can avoid doing imports until\n",
      "INFO:cmdstanpy:found newer exe file, not recompiling\n",
      "INFO:cmdstanpy:compiled model file: /home/cerquide/prj/crowdnalysis/src/crowdnalysis/cmdstan/Multinomial.fit_and_consensus\n"
     ]
    },
    {
     "name": "stdout",
     "output_type": "stream",
     "text": [
      "error_rate: 0.22399999999999998\n",
      "log_score: -inf\n",
      "*********\n",
      "StanMultinomialOptimize\n"
     ]
    },
    {
     "name": "stderr",
     "output_type": "stream",
     "text": [
      "INFO:cmdstanpy:start chain 1\n",
      "INFO:cmdstanpy:finish chain 1\n"
     ]
    },
    {
     "name": "stdout",
     "output_type": "stream",
     "text": [
      "error_rate: 0.9486\n",
      "log_score: -52147.86995723582\n",
      "tau = [0.608736  0.0968126 0.294451 ]\n",
      "pi = [[0.251518 0.299346 0.449137]\n",
      " [0.504781 0.300907 0.194312]\n",
      " [0.202022 0.600665 0.197314]]\n",
      "*********\n",
      "DawidSkene\n"
     ]
    },
    {
     "name": "stderr",
     "output_type": "stream",
     "text": [
      "INFO:cmdstanpy:found newer exe file, not recompiling\n",
      "INFO:cmdstanpy:compiled model file: /home/cerquide/prj/crowdnalysis/src/crowdnalysis/cmdstan/MultinomialEta.fit_and_consensus\n"
     ]
    },
    {
     "name": "stdout",
     "output_type": "stream",
     "text": [
      "error_rate: 0.10089999999999999\n",
      "log_score: -2682.2255782952698\n",
      "tau = [0.09724199 0.29425363 0.60850438]\n",
      "pi = [[[0.50463265 0.30035447 0.19501288]\n",
      "  [0.20209946 0.60083436 0.19706619]\n",
      "  [0.25132606 0.29942403 0.44924991]]]\n",
      "*********\n",
      "StanMultinomialEtaOptimize\n"
     ]
    },
    {
     "name": "stderr",
     "output_type": "stream",
     "text": [
      "INFO:cmdstanpy:start chain 1\n",
      "INFO:cmdstanpy:finish chain 1\n",
      "INFO:cmdstanpy:found newer exe file, not recompiling\n",
      "INFO:cmdstanpy:compiled model file: /home/cerquide/prj/crowdnalysis/src/crowdnalysis/cmdstan/DS.fit_and_consensus\n"
     ]
    },
    {
     "name": "stdout",
     "output_type": "stream",
     "text": [
      "error_rate: 0.10109999999999997\n",
      "log_score: -2683.3130557378936\n",
      "tau = [0.0965617 0.294497  0.608942 ]\n",
      "pi = [[0.5054   0.300133 0.194467]\n",
      " [0.202153 0.60078  0.197067]\n",
      " [0.251436 0.299423 0.449141]]\n",
      "*********\n",
      "StanDSOptimize\n"
     ]
    },
    {
     "name": "stderr",
     "output_type": "stream",
     "text": [
      "INFO:cmdstanpy:start chain 1\n",
      "INFO:cmdstanpy:finish chain 1\n",
      "INFO:cmdstanpy:found newer exe file, not recompiling\n",
      "INFO:cmdstanpy:compiled model file: /home/cerquide/prj/crowdnalysis/src/crowdnalysis/cmdstan/DSEta.fit_and_consensus\n"
     ]
    },
    {
     "name": "stdout",
     "output_type": "stream",
     "text": [
      "error_rate: 0.9486\n",
      "log_score: -52147.86995723582\n",
      "tau = [0.608736  0.0968126 0.294451 ]\n",
      "pi = [[[0.251518 0.299346 0.449137]\n",
      "  [0.504781 0.300907 0.194312]\n",
      "  [0.202022 0.600665 0.197314]]]\n",
      "*********\n",
      "StanDSEtaOptimize\n"
     ]
    },
    {
     "name": "stderr",
     "output_type": "stream",
     "text": [
      "INFO:cmdstanpy:start chain 1\n",
      "INFO:cmdstanpy:finish chain 1\n"
     ]
    },
    {
     "name": "stdout",
     "output_type": "stream",
     "text": [
      "error_rate: 0.10109999999999997\n",
      "log_score: -2683.3130557378936\n",
      "tau = [0.0965617 0.294497  0.608942 ]\n",
      "pi = [[[0.5054   0.300133 0.194467]\n",
      "  [0.202153 0.60078  0.197067]\n",
      "  [0.251436 0.299423 0.449141]]]\n"
     ]
    }
   ],
   "source": [
    "print(\"Real parameters\")\n",
    "print(\"tau=\",real_tau)\n",
    "print(\"pi=\",real_pi)\n",
    "for model in [mv, smoc, ds, smetaoc, sdsoc, sdsetaoc]:\n",
    "    print(\"*********\")\n",
    "    print(model.name)\n",
    "    t_C_m, d = model.m_fit_and_compute_consensus(m, t, k, w)\n",
    "    print(\"error_rate:\", err_rate(t_C, t_C_m))\n",
    "    print(\"log_score:\", log_score(t_C, t_C_m))\n",
    "    #print(d.keys())\n",
    "    print_vars(d,[\"p\",\"_pi\",\"tau\",\"pi\"])\n",
    "    #if \"p\" in d:\n",
    "    #    print (d['p'],d['pi_'])\n",
    "    #else:\n",
    "    #    print(d['tau'],d['pi'])"
   ]
  },
  {
   "cell_type": "code",
   "execution_count": 113,
   "id": "heated-binary",
   "metadata": {},
   "outputs": [
    {
     "name": "stderr",
     "output_type": "stream",
     "text": [
      "INFO:cmdstanpy:found newer exe file, not recompiling\n",
      "INFO:cmdstanpy:compiled model file: /home/cerquide/prj/crowdnalysis/src/crowdnalysis/cmdstan/Multinomial.fit_and_consensus\n",
      "INFO:cmdstanpy:start chain 1\n",
      "INFO:cmdstanpy:finish chain 1\n"
     ]
    },
    {
     "data": {
      "text/plain": [
       "{'tau': array([0.608736 , 0.0968126, 0.294451 ]),\n",
       " 'pi': array([[0.251518, 0.299346, 0.449137],\n",
       "        [0.504781, 0.300907, 0.194312],\n",
       "        [0.202022, 0.600665, 0.197314]]),\n",
       " 'log_p_t_C': array([[-21.6067, -27.6235, -29.0874],\n",
       "        [-21.2586, -28.6581, -26.9081],\n",
       "        [-22.0125, -27.1862, -27.9742],\n",
       "        ...,\n",
       "        [-21.6643, -28.2208, -25.7948],\n",
       "        [-23.3462, -24.7595, -29.0167],\n",
       "        [-21.2586, -28.6581, -26.9081]]),\n",
       " 't_C': array([[9.97008e-01, 2.43025e-03, 5.62191e-04],\n",
       "        [9.95886e-01, 6.08994e-04, 3.50472e-03],\n",
       "        [9.91828e-01, 5.61731e-03, 2.55448e-03],\n",
       "        ...,\n",
       "        [9.82806e-01, 1.39640e-03, 1.57976e-02],\n",
       "        [8.02069e-01, 1.95167e-01, 2.76407e-03],\n",
       "        [9.95886e-01, 6.08994e-04, 3.50472e-03]])}"
      ]
     },
     "execution_count": 113,
     "metadata": {},
     "output_type": "execute_result"
    }
   ],
   "source": [
    "t_C, d = smoc.m_fit_and_compute_consensus(m, t, k, w)\n",
    "d"
   ]
  },
  {
   "cell_type": "code",
   "execution_count": 114,
   "id": "historic-bargain",
   "metadata": {},
   "outputs": [
    {
     "data": {
      "text/plain": [
       "(array([[2.52486006e-03, 5.57473873e-04, 9.96917666e-01],\n",
       "        [6.29989077e-04, 3.46783611e-03, 9.95902175e-01],\n",
       "        [5.80203340e-03, 2.53688186e-03, 9.91661085e-01],\n",
       "        ...,\n",
       "        [1.43637310e-03, 1.56576154e-02, 9.82906011e-01],\n",
       "        [1.99541168e-01, 2.74859433e-03, 7.97710238e-01],\n",
       "        [6.29989077e-04, 3.46783611e-03, 9.95902175e-01]]),\n",
       " {'tau': array([0.09724199, 0.29425363, 0.60850438]),\n",
       "  'pi': array([[[0.50463265, 0.30035447, 0.19501288],\n",
       "          [0.20209946, 0.60083436, 0.19706619],\n",
       "          [0.25132606, 0.29942403, 0.44924991]]])})"
      ]
     },
     "execution_count": 114,
     "metadata": {},
     "output_type": "execute_result"
    }
   ],
   "source": [
    "m[:,1]=0\n",
    "a = ds.m_fit_and_compute_consensus(m, t, k, 1)\n",
    "a\n"
   ]
  },
  {
   "cell_type": "code",
   "execution_count": null,
   "id": "similar-telephone",
   "metadata": {},
   "outputs": [],
   "source": [
    "d = smoc.m_fit(m, t, k, w, t_C)\n",
    "d"
   ]
  },
  {
   "cell_type": "code",
   "execution_count": null,
   "id": "olympic-walker",
   "metadata": {},
   "outputs": [],
   "source": [
    "d2 = smoc.m_compute_consensus(m, t, k, w, data=d)\n",
    "d2"
   ]
  },
  {
   "cell_type": "code",
   "execution_count": 118,
   "id": "changed-perspective",
   "metadata": {},
   "outputs": [],
   "source": [
    "import math\n",
    "\n",
    "def nc(eta):\n",
    "    return (1/eta)*(1/(math.log(1-eta)-math.log(eta)))"
   ]
  },
  {
   "cell_type": "code",
   "execution_count": 119,
   "id": "meaning-identity",
   "metadata": {},
   "outputs": [
    {
     "data": {
      "text/plain": [
       "-0.5056884592371319"
      ]
     },
     "execution_count": 119,
     "metadata": {},
     "output_type": "execute_result"
    }
   ],
   "source": [
    "nc(0.9)"
   ]
  },
  {
   "cell_type": "code",
   "execution_count": 120,
   "id": "monthly-consumer",
   "metadata": {},
   "outputs": [
    {
     "data": {
      "text/plain": [
       "4.551196133134187"
      ]
     },
     "execution_count": 120,
     "metadata": {},
     "output_type": "execute_result"
    }
   ],
   "source": [
    "nc(0.1)"
   ]
  },
  {
   "cell_type": "code",
   "execution_count": null,
   "id": "social-roman",
   "metadata": {},
   "outputs": [],
   "source": []
  }
 ],
 "metadata": {
  "kernelspec": {
   "display_name": "Python 3",
   "language": "python",
   "name": "python3"
  },
  "language_info": {
   "codemirror_mode": {
    "name": "ipython",
    "version": 3
   },
   "file_extension": ".py",
   "mimetype": "text/x-python",
   "name": "python",
   "nbconvert_exporter": "python",
   "pygments_lexer": "ipython3",
   "version": "3.7.4"
  }
 },
 "nbformat": 4,
 "nbformat_minor": 5
}
