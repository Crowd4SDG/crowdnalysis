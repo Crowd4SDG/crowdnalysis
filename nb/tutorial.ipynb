{
 "cells": [
  {
   "cell_type": "markdown",
   "id": "1cde8515",
   "metadata": {},
   "source": [
    "# Tutorial for the `crowdnalysis` library\n",
    "\n",
    "*Last updated on Sep 15<sup>th</sup>, 2022*.\n",
    "\n",
    "- GitHub: https://github.com/Crowd4SDG/crowdnalysis\n",
    "- PyPI: https://pypi.org/project/crowdnalysis"
   ]
  },
  {
   "cell_type": "markdown",
   "id": "0d41693a",
   "metadata": {},
   "source": [
    "## Table of Contents\n",
    "\n",
    "- [Setup for Jupyter](#Setup-for-Jupyter)\n",
    "- [Part 1: Data with a single question](#Part-1:-Data-with-a-single-question)\n",
    "  - [Import data](#Import-data)\n",
    "  - [Inter-rater reliability](#Inter-rater-reliability)\n",
    "  - [Consensus and individual error-rates](#Consensus-and-individual-error-rates)\n",
    "- [Part 2: Data with multiple questions](#Part-2:-Data-with-multiple-questions)\n",
    "  - [Import extended data](#Import-extended-data)\n",
    "  - [Set real classes for questions](#Set-real-classes-for-questions)\n",
    "  - [Set dependency for a question](#Set-dependency-for-a-question)\n",
    "  - [Inter-rater reliability for each question](#Inter-rater-reliability-for-each-question)\n",
    "  - [Consensuses and individual error rates](#Consensuses-and-individual-error-rates)\n",
    "- [Part 3: Error rates against ground truth](#Part-3:-Error-rates-against-ground-truth)\n",
    "  - [Confusion matrix](#Confusion-matrix)\n",
    "- [See also](#See-also)"
   ]
  },
  {
   "cell_type": "markdown",
   "id": "8034c703",
   "metadata": {},
   "source": [
    "## Setup for Jupyter\n",
    "If you installed `crowdnalysis` in a virtual environment, make sure you've registered the environment to Jupyter.\n",
    "To do that, activate your environment and run the following commmand. Note that the name of the kernel can be different than the environment name.\n",
    "```bash\n",
    "(myenv) $ python3 -m ipykernel install --user --name=myenv\n",
    "```\n",
    "And, select this kernel in the \"Kernel > Change kernel\" menu in Jupyter."
   ]
  },
  {
   "cell_type": "code",
   "execution_count": 1,
   "id": "36e8b0f7",
   "metadata": {},
   "outputs": [],
   "source": [
    "import crowdnalysis as cs\n",
    "import pandas as pd\n",
    "import numpy as np"
   ]
  },
  {
   "cell_type": "code",
   "execution_count": 2,
   "id": "9067a025",
   "metadata": {},
   "outputs": [
    {
     "data": {
      "text/plain": [
       "'1.1.2'"
      ]
     },
     "execution_count": 2,
     "metadata": {},
     "output_type": "execute_result"
    }
   ],
   "source": [
    "cs.__version__"
   ]
  },
  {
   "cell_type": "markdown",
   "id": "01bbcb6e",
   "metadata": {},
   "source": [
    "## Part 1: Data with a single question\n",
    "\n",
    "Only one question is asked to the annotators. We calculate the following with the annotation data:\n",
    "\n",
    "- Inter-rater reliability\n",
    "- Consensus on annotations\n",
    "- Error-rate matrices of annotators"
   ]
  },
  {
   "cell_type": "markdown",
   "id": "52437a0c",
   "metadata": {},
   "source": [
    "### Import data"
   ]
  },
  {
   "cell_type": "code",
   "execution_count": 3,
   "id": "4c646485",
   "metadata": {},
   "outputs": [
    {
     "data": {
      "text/html": [
       "<div>\n",
       "<style scoped>\n",
       "    .dataframe tbody tr th:only-of-type {\n",
       "        vertical-align: middle;\n",
       "    }\n",
       "\n",
       "    .dataframe tbody tr th {\n",
       "        vertical-align: top;\n",
       "    }\n",
       "\n",
       "    .dataframe thead th {\n",
       "        text-align: right;\n",
       "    }\n",
       "</style>\n",
       "<table border=\"1\" class=\"dataframe\">\n",
       "  <thead>\n",
       "    <tr style=\"text-align: right;\">\n",
       "      <th></th>\n",
       "      <th>task_id</th>\n",
       "      <th>user_id</th>\n",
       "      <th>is_fast</th>\n",
       "    </tr>\n",
       "  </thead>\n",
       "  <tbody>\n",
       "    <tr>\n",
       "      <th>15</th>\n",
       "      <td>Mazda</td>\n",
       "      <td>John</td>\n",
       "      <td>Yes</td>\n",
       "    </tr>\n",
       "    <tr>\n",
       "      <th>16</th>\n",
       "      <td>Mazda</td>\n",
       "      <td>Matthew</td>\n",
       "      <td>Yes</td>\n",
       "    </tr>\n",
       "    <tr>\n",
       "      <th>17</th>\n",
       "      <td>Kia</td>\n",
       "      <td>Matthew</td>\n",
       "      <td>Yes</td>\n",
       "    </tr>\n",
       "    <tr>\n",
       "      <th>18</th>\n",
       "      <td>Kia</td>\n",
       "      <td>Andrew</td>\n",
       "      <td>Yes</td>\n",
       "    </tr>\n",
       "    <tr>\n",
       "      <th>19</th>\n",
       "      <td>Kia</td>\n",
       "      <td>John</td>\n",
       "      <td>No</td>\n",
       "    </tr>\n",
       "  </tbody>\n",
       "</table>\n",
       "</div>"
      ],
      "text/plain": [
       "   task_id  user_id is_fast\n",
       "15   Mazda     John     Yes\n",
       "16   Mazda  Matthew     Yes\n",
       "17     Kia  Matthew     Yes\n",
       "18     Kia   Andrew     Yes\n",
       "19     Kia     John      No"
      ]
     },
     "execution_count": 3,
     "metadata": {},
     "output_type": "execute_result"
    }
   ],
   "source": [
    "df1 = pd.read_json(\"tutorial1.json\")\n",
    "df1.tail()"
   ]
  },
  {
   "cell_type": "code",
   "execution_count": 4,
   "id": "e4aa30e0",
   "metadata": {},
   "outputs": [
    {
     "name": "stdout",
     "output_type": "stream",
     "text": [
      "cars: ['Audi' 'BMW' 'GM' 'Kia' 'Maserati' 'Mazda' 'Seat']\n",
      "questions: ['is_fast']\n",
      "answers: ['Yes', 'No']\n",
      "annotators: {'Andrew': 0, 'John': 1, 'Matthew': 2}\n"
     ]
    }
   ],
   "source": [
    "data1 = cs.data.Data.from_df(df1)\n",
    "\n",
    "cars = data1.task_ids\n",
    "questions = data1.questions\n",
    "question = questions[0]\n",
    "answers = data1.get_class_ids(question)  # i.e., classes\n",
    "print(\"cars:\", cars)\n",
    "print(\"questions:\", questions)\n",
    "print(\"answers:\", answers)\n",
    "print(\"annotators:\", data1.annotator_index_from_id)"
   ]
  },
  {
   "cell_type": "markdown",
   "id": "20757499",
   "metadata": {},
   "source": [
    "### Inter-rater reliability"
   ]
  },
  {
   "cell_type": "markdown",
   "id": "7f5a3a0e",
   "metadata": {},
   "source": [
    "*Full agreement*: The ratio of tasks to which all annotators gave the same answer."
   ]
  },
  {
   "cell_type": "code",
   "execution_count": 5,
   "id": "7f2cdd62",
   "metadata": {},
   "outputs": [
    {
     "data": {
      "text/plain": [
       "0.7142857142857143"
      ]
     },
     "execution_count": 5,
     "metadata": {},
     "output_type": "execute_result"
    }
   ],
   "source": [
    "cs.agreement.full_agreement_percentage(data1, question)"
   ]
  },
  {
   "cell_type": "markdown",
   "id": "fc2206bb",
   "metadata": {},
   "source": [
    "*Generalized Fleiss' Kappa*: [see](https://github.com/jmgirard/mReliability/wiki/Scott's-pi-coefficient)"
   ]
  },
  {
   "cell_type": "code",
   "execution_count": 6,
   "id": "100551bc",
   "metadata": {},
   "outputs": [
    {
     "data": {
      "text/plain": [
       "0.5333333333333333"
      ]
     },
     "execution_count": 6,
     "metadata": {},
     "output_type": "execute_result"
    }
   ],
   "source": [
    "cs.agreement.gen_fleiss_kappa(data1, question)"
   ]
  },
  {
   "cell_type": "markdown",
   "id": "56846f5d",
   "metadata": {},
   "source": [
    "### Consensus and individual error rates"
   ]
  },
  {
   "cell_type": "markdown",
   "id": "a4c0e302",
   "metadata": {},
   "source": [
    "Check available consensus models:"
   ]
  },
  {
   "cell_type": "code",
   "execution_count": 7,
   "id": "a4803585",
   "metadata": {},
   "outputs": [
    {
     "data": {
      "text/plain": [
       "['MajorityVoting',\n",
       " 'Probabilistic',\n",
       " 'DawidSkene',\n",
       " 'StanMultinomialOptimize',\n",
       " 'StanMultinomialEtaOptimize',\n",
       " 'StanDSOptimize',\n",
       " 'StanDSEtaHOptimize']"
      ]
     },
     "execution_count": 7,
     "metadata": {},
     "output_type": "execute_result"
    }
   ],
   "source": [
    "cs.factory.Factory.list_registered_algorithms()"
   ]
  },
  {
   "cell_type": "markdown",
   "id": "5efe2e63",
   "metadata": {},
   "source": [
    "Use the Dawid-Skene model:"
   ]
  },
  {
   "cell_type": "code",
   "execution_count": 8,
   "id": "8aaafe71",
   "metadata": {},
   "outputs": [],
   "source": [
    "ds1 = cs.factory.Factory.make(\"DawidSkene\")"
   ]
  },
  {
   "cell_type": "markdown",
   "id": "51ccc8a1",
   "metadata": {},
   "source": [
    "Compute consensus and individual error rates:"
   ]
  },
  {
   "cell_type": "code",
   "execution_count": 9,
   "id": "d12f519f",
   "metadata": {},
   "outputs": [],
   "source": [
    "consensus, params = ds1.fit_and_compute_consensus_from_data(data1, question)"
   ]
  },
  {
   "cell_type": "code",
   "execution_count": 10,
   "id": "f7bfc625",
   "metadata": {},
   "outputs": [
    {
     "name": "stdout",
     "output_type": "stream",
     "text": [
      "Consensus for question 'is_fast':\n",
      "[[0.92361645 0.07638355]\n",
      " [0.94655271 0.05344729]\n",
      " [0.27162537 0.72837463]\n",
      " [0.71691328 0.28308672]\n",
      " [0.84837212 0.15162788]\n",
      " [0.92361645 0.07638355]\n",
      " [0.09613437 0.90386563]]\n"
     ]
    }
   ],
   "source": [
    "print(f\"Consensus for question '{question}':\\n{consensus}\")"
   ]
  },
  {
   "cell_type": "markdown",
   "id": "b56af357",
   "metadata": {},
   "source": [
    "Display consensus as a `pandas.DataFrame`:"
   ]
  },
  {
   "cell_type": "code",
   "execution_count": 11,
   "id": "b776ce70",
   "metadata": {},
   "outputs": [
    {
     "data": {
      "text/html": [
       "<div>\n",
       "<style scoped>\n",
       "    .dataframe tbody tr th:only-of-type {\n",
       "        vertical-align: middle;\n",
       "    }\n",
       "\n",
       "    .dataframe tbody tr th {\n",
       "        vertical-align: top;\n",
       "    }\n",
       "\n",
       "    .dataframe thead th {\n",
       "        text-align: right;\n",
       "    }\n",
       "</style>\n",
       "<table border=\"1\" class=\"dataframe\">\n",
       "  <thead>\n",
       "    <tr style=\"text-align: right;\">\n",
       "      <th></th>\n",
       "      <th>Yes</th>\n",
       "      <th>No</th>\n",
       "    </tr>\n",
       "  </thead>\n",
       "  <tbody>\n",
       "    <tr>\n",
       "      <th>Audi</th>\n",
       "      <td>0.923616</td>\n",
       "      <td>0.076384</td>\n",
       "    </tr>\n",
       "    <tr>\n",
       "      <th>BMW</th>\n",
       "      <td>0.946553</td>\n",
       "      <td>0.053447</td>\n",
       "    </tr>\n",
       "    <tr>\n",
       "      <th>GM</th>\n",
       "      <td>0.271625</td>\n",
       "      <td>0.728375</td>\n",
       "    </tr>\n",
       "    <tr>\n",
       "      <th>Kia</th>\n",
       "      <td>0.716913</td>\n",
       "      <td>0.283087</td>\n",
       "    </tr>\n",
       "    <tr>\n",
       "      <th>Maserati</th>\n",
       "      <td>0.848372</td>\n",
       "      <td>0.151628</td>\n",
       "    </tr>\n",
       "    <tr>\n",
       "      <th>Mazda</th>\n",
       "      <td>0.923616</td>\n",
       "      <td>0.076384</td>\n",
       "    </tr>\n",
       "    <tr>\n",
       "      <th>Seat</th>\n",
       "      <td>0.096134</td>\n",
       "      <td>0.903866</td>\n",
       "    </tr>\n",
       "  </tbody>\n",
       "</table>\n",
       "</div>"
      ],
      "text/plain": [
       "               Yes        No\n",
       "Audi      0.923616  0.076384\n",
       "BMW       0.946553  0.053447\n",
       "GM        0.271625  0.728375\n",
       "Kia       0.716913  0.283087\n",
       "Maserati  0.848372  0.151628\n",
       "Mazda     0.923616  0.076384\n",
       "Seat      0.096134  0.903866"
      ]
     },
     "execution_count": 11,
     "metadata": {},
     "output_type": "execute_result"
    }
   ],
   "source": [
    "cs.visualization.consensus_as_df(data1, question, consensus)"
   ]
  },
  {
   "cell_type": "markdown",
   "id": "061989f6",
   "metadata": {},
   "source": [
    "Print annotator error rates:"
   ]
  },
  {
   "cell_type": "code",
   "execution_count": 12,
   "id": "d5976253",
   "metadata": {},
   "outputs": [
    {
     "name": "stdout",
     "output_type": "stream",
     "text": [
      "Error-rate matrix of Andrew:\n",
      "[[0.8103665  0.1896335 ]\n",
      " [0.54881728 0.45118272]]\n",
      "Error-rate matrix of John:\n",
      "[[0.69009581 0.30990419]\n",
      " [0.31776    0.68224   ]]\n",
      "Error-rate matrix of Matthew:\n",
      "[[0.79959598 0.20040402]\n",
      " [0.36952158 0.63047842]]\n"
     ]
    }
   ],
   "source": [
    "for ann, idx in data1.annotator_index_from_id.items():\n",
    "    print(f\"Error-rate matrix of {ann}:\\n{params.pi[idx]}\")"
   ]
  },
  {
   "cell_type": "markdown",
   "id": "5f458e59",
   "metadata": {},
   "source": [
    "Plot error-rate matrices:"
   ]
  },
  {
   "cell_type": "code",
   "execution_count": 13,
   "id": "b5d4e5e2",
   "metadata": {},
   "outputs": [
    {
     "data": {
      "image/png": "[encoded data removed]",
      "text/plain": [
       "<Figure size 432x288 with 2 Axes>"
      ]
     },
     "metadata": {
      "needs_background": "light"
     },
     "output_type": "display_data"
    },
    {
     "data": {
      "image/png": "[encoded data removed]",
      "text/plain": [
       "<Figure size 432x288 with 2 Axes>"
      ]
     },
     "metadata": {
      "needs_background": "light"
     },
     "output_type": "display_data"
    },
    {
     "data": {
      "image/png": "[encoded data removed]",
      "text/plain": [
       "<Figure size 432x288 with 2 Axes>"
      ]
     },
     "metadata": {
      "needs_background": "light"
     },
     "output_type": "display_data"
    }
   ],
   "source": [
    "for ann, idx in data1.annotator_index_from_id.items():\n",
    "    cs.visualization.plot_confusion(conf_mtx=params.pi[idx], classes=answers, labels=answers, fmt=\".2g\",\n",
    "                                    title=f\"Error-rate matrix of {ann} for question '{question}':\", filename=None)"
   ]
  },
  {
   "cell_type": "markdown",
   "id": "36369241",
   "metadata": {},
   "source": [
    "## Part 2: Data with multiple questions\n",
    "\n",
    "In this example, annotators are asked to reply two consecutive questions for each task. We show how to\n",
    "\n",
    "- Distingush real classes from reported labels,\n",
    "- Set inter-dependencies between questions.\n",
    "\n",
    "And, we compute the consensus and error-rates accordingly."
   ]
  },
  {
   "cell_type": "markdown",
   "id": "ca91398c",
   "metadata": {},
   "source": [
    "### Import extended data"
   ]
  },
  {
   "cell_type": "code",
   "execution_count": 14,
   "id": "d0abf5a9",
   "metadata": {},
   "outputs": [
    {
     "data": {
      "text/html": [
       "<div>\n",
       "<style scoped>\n",
       "    .dataframe tbody tr th:only-of-type {\n",
       "        vertical-align: middle;\n",
       "    }\n",
       "\n",
       "    .dataframe tbody tr th {\n",
       "        vertical-align: top;\n",
       "    }\n",
       "\n",
       "    .dataframe thead th {\n",
       "        text-align: right;\n",
       "    }\n",
       "</style>\n",
       "<table border=\"1\" class=\"dataframe\">\n",
       "  <thead>\n",
       "    <tr style=\"text-align: right;\">\n",
       "      <th></th>\n",
       "      <th>task_id</th>\n",
       "      <th>user_id</th>\n",
       "      <th>is_car</th>\n",
       "      <th>is_fast</th>\n",
       "    </tr>\n",
       "  </thead>\n",
       "  <tbody>\n",
       "    <tr>\n",
       "      <th>27</th>\n",
       "      <td>Cart</td>\n",
       "      <td>John</td>\n",
       "      <td>Not answered</td>\n",
       "      <td>Not answered</td>\n",
       "    </tr>\n",
       "    <tr>\n",
       "      <th>28</th>\n",
       "      <td>Cart</td>\n",
       "      <td>Matthew</td>\n",
       "      <td>Not answered</td>\n",
       "      <td>Not answered</td>\n",
       "    </tr>\n",
       "    <tr>\n",
       "      <th>29</th>\n",
       "      <td>Cart</td>\n",
       "      <td>Andrew</td>\n",
       "      <td>Not answered</td>\n",
       "      <td>Not answered</td>\n",
       "    </tr>\n",
       "    <tr>\n",
       "      <th>30</th>\n",
       "      <td>Cart</td>\n",
       "      <td>Samuel</td>\n",
       "      <td>Not answered</td>\n",
       "      <td>Not answered</td>\n",
       "    </tr>\n",
       "    <tr>\n",
       "      <th>31</th>\n",
       "      <td>Trolley</td>\n",
       "      <td>John</td>\n",
       "      <td>No</td>\n",
       "      <td>No</td>\n",
       "    </tr>\n",
       "    <tr>\n",
       "      <th>32</th>\n",
       "      <td>Trolley</td>\n",
       "      <td>Matthew</td>\n",
       "      <td>No</td>\n",
       "      <td>No</td>\n",
       "    </tr>\n",
       "    <tr>\n",
       "      <th>33</th>\n",
       "      <td>Trolley</td>\n",
       "      <td>Andrew</td>\n",
       "      <td>No</td>\n",
       "      <td>No</td>\n",
       "    </tr>\n",
       "    <tr>\n",
       "      <th>34</th>\n",
       "      <td>Trolley</td>\n",
       "      <td>Samuel</td>\n",
       "      <td>No</td>\n",
       "      <td>No</td>\n",
       "    </tr>\n",
       "    <tr>\n",
       "      <th>35</th>\n",
       "      <td>Flintmobile</td>\n",
       "      <td>John</td>\n",
       "      <td>No</td>\n",
       "      <td>No</td>\n",
       "    </tr>\n",
       "    <tr>\n",
       "      <th>36</th>\n",
       "      <td>Flintmobile</td>\n",
       "      <td>Matthew</td>\n",
       "      <td>Yes</td>\n",
       "      <td>No</td>\n",
       "    </tr>\n",
       "    <tr>\n",
       "      <th>37</th>\n",
       "      <td>Flintmobile</td>\n",
       "      <td>Andrew</td>\n",
       "      <td>No</td>\n",
       "      <td>No</td>\n",
       "    </tr>\n",
       "    <tr>\n",
       "      <th>38</th>\n",
       "      <td>Flintmobile</td>\n",
       "      <td>Samuel</td>\n",
       "      <td>Not answered</td>\n",
       "      <td>Not answered</td>\n",
       "    </tr>\n",
       "  </tbody>\n",
       "</table>\n",
       "</div>"
      ],
      "text/plain": [
       "        task_id  user_id        is_car       is_fast\n",
       "27         Cart     John  Not answered  Not answered\n",
       "28         Cart  Matthew  Not answered  Not answered\n",
       "29         Cart   Andrew  Not answered  Not answered\n",
       "30         Cart   Samuel  Not answered  Not answered\n",
       "31      Trolley     John            No            No\n",
       "32      Trolley  Matthew            No            No\n",
       "33      Trolley   Andrew            No            No\n",
       "34      Trolley   Samuel            No            No\n",
       "35  Flintmobile     John            No            No\n",
       "36  Flintmobile  Matthew           Yes            No\n",
       "37  Flintmobile   Andrew            No            No\n",
       "38  Flintmobile   Samuel  Not answered  Not answered"
      ]
     },
     "execution_count": 14,
     "metadata": {},
     "output_type": "execute_result"
    }
   ],
   "source": [
    "df2 = pd.read_json(\"tutorial2.json\")\n",
    "df2.tail(12)"
   ]
  },
  {
   "cell_type": "markdown",
   "id": "2802aeb7",
   "metadata": {},
   "source": [
    "### Set real classes for questions"
   ]
  },
  {
   "cell_type": "markdown",
   "id": "67745d7c",
   "metadata": {},
   "source": [
    "Real classes for a question should be successive starting from index 0 within the answer categories (i.e. labels). A non-class label (e.g. 'Not answered') should come after the classes."
   ]
  },
  {
   "cell_type": "code",
   "execution_count": 15,
   "id": "bc67294d",
   "metadata": {},
   "outputs": [
    {
     "name": "stdout",
     "output_type": "stream",
     "text": [
      "cars: ['Audi', 'BMW', 'Cart', 'Flintmobile', 'GM', 'Kia', 'Maserati', 'Mazda', 'Seat', 'Trolley']\n",
      "questions: ['is_car', 'is_fast']\n",
      "annotators: {'Andrew': 0, 'John': 1, 'Matthew': 2, 'Samuel': 3}\n"
     ]
    }
   ],
   "source": [
    "from pandas.api.types import CategoricalDtype\n",
    "dtype = CategoricalDtype(categories=[\"Yes\", \"No\", \"Not answered\"], ordered=False)\n",
    "categories = {\"is_car\": dtype, \"is_fast\": dtype}\n",
    "data2 = cs.data.Data.from_df(df2, categories=categories)\n",
    "cars = data2.task_ids\n",
    "print(\"cars:\", cars.tolist())\n",
    "questions = data2.questions\n",
    "print(\"questions:\", questions)\n",
    "print(\"annotators:\", data2.annotator_index_from_id)"
   ]
  },
  {
   "cell_type": "markdown",
   "id": "504c3e0b",
   "metadata": {},
   "source": [
    "Exclude 'Not answered' from the real classes:"
   ]
  },
  {
   "cell_type": "code",
   "execution_count": 16,
   "id": "823d2d69",
   "metadata": {},
   "outputs": [
    {
     "name": "stdout",
     "output_type": "stream",
     "text": [
      "Question 'is_car':\n",
      "\tLabels: ['Yes', 'No', 'Not answered']\n",
      "\tClasses: ['Yes', 'No']\n",
      "Question 'is_fast':\n",
      "\tLabels: ['Yes', 'No', 'Not answered']\n",
      "\tClasses: ['Yes', 'No']\n"
     ]
    }
   ],
   "source": [
    "for q in questions:\n",
    "    print(f\"Question '{q}':\")\n",
    "    labels = data2.get_categories()[q].categories\n",
    "    print(\"\\tLabels:\", labels.tolist())\n",
    "    classes = np.delete(labels, np.where(labels==\"Not answered\")).tolist()\n",
    "    data2.set_classes(q, classes)\n",
    "    print(\"\\tClasses:\", data2.get_class_ids(q))"
   ]
  },
  {
   "cell_type": "markdown",
   "id": "c75eed72",
   "metadata": {},
   "source": [
    "### Set dependency for a question\n",
    "\n",
    "Set a dependency for the 'is_fast' question so that its answer is taken into account only when 'is_car=Yes':"
   ]
  },
  {
   "cell_type": "markdown",
   "id": "be5f54de",
   "metadata": {},
   "source": [
    "`Data.set_condition(question, conditions)` function expects a valid string to be used in `pandas.DataFrame.query()` to set the dependency for the `question`. You can use the `Data.make_and_condition()` helper function as below to create conjunctive conditions. See the latter function's doc_string for options."
   ]
  },
  {
   "cell_type": "code",
   "execution_count": 17,
   "id": "fbeecdbe",
   "metadata": {},
   "outputs": [
    {
     "name": "stdout",
     "output_type": "stream",
     "text": [
      "valid annotations for 'is_fast' before the condition: 39\n",
      "valid annotations for 'is_fast' after setting the condition: 27\n"
     ]
    }
   ],
   "source": [
    "print(\"valid annotations for 'is_fast' before the condition:\", len(data2.valid_rows(\"is_fast\")))\n",
    "cnd = cs.data.Data.make_and_condition([(\"is_car\", \"Yes\")])\n",
    "data2.set_condition(\"is_fast\", cnd)\n",
    "print(\"valid annotations for 'is_fast' after setting the condition:\", len(data2.valid_rows(\"is_fast\")))"
   ]
  },
  {
   "cell_type": "markdown",
   "id": "4e2d3d1e",
   "metadata": {},
   "source": [
    "### Inter-rater reliability for each question"
   ]
  },
  {
   "cell_type": "code",
   "execution_count": 18,
   "id": "acd616e4",
   "metadata": {},
   "outputs": [
    {
     "name": "stdout",
     "output_type": "stream",
     "text": [
      "Question 'is_car':\n",
      "\tFull agreement: 0.8\n",
      "\tGeneralized Fleiss' kappa: 0.7132616487455201\n",
      "Question 'is_fast':\n",
      "\tFull agreement: 0.3\n",
      "\tGeneralized Fleiss' kappa: 0.272937103289094\n"
     ]
    }
   ],
   "source": [
    "for q in questions:\n",
    "    print(f\"Question '{q}':\")\n",
    "    print(\"\\tFull agreement:\", cs.agreement.full_agreement_percentage(data2, q))\n",
    "    print(\"\\tGeneralized Fleiss' kappa:\", cs.agreement.gen_fleiss_kappa(data2, q))"
   ]
  },
  {
   "cell_type": "markdown",
   "id": "aacf49cf",
   "metadata": {},
   "source": [
    "### Consensuses and individual error rates"
   ]
  },
  {
   "cell_type": "markdown",
   "id": "7cfe2fd4",
   "metadata": {},
   "source": [
    "Compute consensus and individual error rates for *all* questions. Use Dawid-Skene:"
   ]
  },
  {
   "cell_type": "code",
   "execution_count": 19,
   "id": "a83077be",
   "metadata": {},
   "outputs": [],
   "source": [
    "ds2 = cs.factory.Factory.make(\"DawidSkene\")\n",
    "consensuses, parameters = ds2.fit_and_compute_consensuses_from_data(data2, questions)"
   ]
  },
  {
   "cell_type": "markdown",
   "id": "7e66b3c6",
   "metadata": {},
   "source": [
    "Display the consensuses:"
   ]
  },
  {
   "cell_type": "code",
   "execution_count": 20,
   "id": "7bf17e14",
   "metadata": {},
   "outputs": [
    {
     "name": "stdout",
     "output_type": "stream",
     "text": [
      "Consensus for question 'is_car':\n",
      "                  Yes        No\n",
      "Audi         0.997436  0.002564\n",
      "BMW          0.995452  0.004548\n",
      "Cart         0.026863  0.973137\n",
      "Flintmobile  0.110424  0.889576\n",
      "GM           0.976581  0.023419\n",
      "Kia          0.997436  0.002564\n",
      "Maserati     0.993776  0.006224\n",
      "Mazda        0.997436  0.002564\n",
      "Seat         0.997436  0.002564\n",
      "Trolley      0.010351  0.989649 \n",
      "\n",
      "Consensus for question 'is_fast':\n",
      "                  Yes        No\n",
      "Audi         0.948533  0.051467\n",
      "BMW          0.982519  0.017481\n",
      "Flintmobile  0.330076  0.669924\n",
      "GM           0.206933  0.793067\n",
      "Kia          0.384259  0.615741\n",
      "Maserati     0.935645  0.064355\n",
      "Mazda        0.972118  0.027882\n",
      "Seat         0.027088  0.972912 \n",
      "\n"
     ]
    }
   ],
   "source": [
    "for q in questions:\n",
    "    print(f\"Consensus for question '{q}':\")\n",
    "    print(cs.visualization.consensus_as_df(data2, q, consensuses[q]), \"\\n\")"
   ]
  },
  {
   "cell_type": "markdown",
   "id": "3e63145d",
   "metadata": {},
   "source": [
    ">Note that Cart and Trolley are excluded from the 'is_fast' consensus.\n",
    "This is because their annotations are ruled out by the dependency we set [above](#Set-dependency-for-a-question) for 'is_fast'. That is, all annotators agreed that they are not cars. On the other hand, Flintmobile remained in this consensus since Matthew believed it is actually a car."
   ]
  },
  {
   "cell_type": "markdown",
   "id": "e36de8f0",
   "metadata": {},
   "source": [
    "Plot error-rate matrices:"
   ]
  },
  {
   "cell_type": "code",
   "execution_count": 21,
   "id": "a9ccba02",
   "metadata": {},
   "outputs": [
    {
     "name": "stdout",
     "output_type": "stream",
     "text": [
      "Question 'is_car':\n"
     ]
    },
    {
     "data": {
      "image/png": "[encoded data removed]",
      "text/plain": [
       "<Figure size 432x288 with 2 Axes>"
      ]
     },
     "metadata": {
      "needs_background": "light"
     },
     "output_type": "display_data"
    },
    {
     "data": {
      "image/png": "[encoded data removed]",
      "text/plain": [
       "<Figure size 432x288 with 2 Axes>"
      ]
     },
     "metadata": {
      "needs_background": "light"
     },
     "output_type": "display_data"
    },
    {
     "data": {
      "image/png": "[encoded data removed]",
      "text/plain": [
       "<Figure size 432x288 with 2 Axes>"
      ]
     },
     "metadata": {
      "needs_background": "light"
     },
     "output_type": "display_data"
    },
    {
     "data": {
      "image/png": "[encoded data removed]",
      "text/plain": [
       "<Figure size 432x288 with 2 Axes>"
      ]
     },
     "metadata": {
      "needs_background": "light"
     },
     "output_type": "display_data"
    },
    {
     "name": "stdout",
     "output_type": "stream",
     "text": [
      "Question 'is_fast':\n"
     ]
    },
    {
     "data": {
      "image/png": "[encoded data removed]",
      "text/plain": [
       "<Figure size 432x288 with 2 Axes>"
      ]
     },
     "metadata": {
      "needs_background": "light"
     },
     "output_type": "display_data"
    },
    {
     "data": {
      "image/png": "[encoded data removed]",
      "text/plain": [
       "<Figure size 432x288 with 2 Axes>"
      ]
     },
     "metadata": {
      "needs_background": "light"
     },
     "output_type": "display_data"
    },
    {
     "data": {
      "image/png": "[encoded data removed]",
      "text/plain": [
       "<Figure size 432x288 with 2 Axes>"
      ]
     },
     "metadata": {
      "needs_background": "light"
     },
     "output_type": "display_data"
    },
    {
     "data": {
      "image/png": "[encoded data removed]",
      "text/plain": [
       "<Figure size 432x288 with 2 Axes>"
      ]
     },
     "metadata": {
      "needs_background": "light"
     },
     "output_type": "display_data"
    }
   ],
   "source": [
    "for q in questions:\n",
    "    print(f\"Question '{q}':\")\n",
    "    labels = data2.get_categories()[q].categories\n",
    "    classes = np.delete(labels, np.where(labels==\"Not answered\")).tolist()\n",
    "    for ann, idx in data2.annotator_index_from_id.items():\n",
    "        cs.visualization.plot_confusion(conf_mtx=parameters[q].pi[idx], classes=classes, labels=labels, fmt=\".2g\",\n",
    "                                        title=f\"Error-rate matrix of {ann} for question '{q}':\", filename=None)"
   ]
  },
  {
   "cell_type": "markdown",
   "id": "148316cb",
   "metadata": {},
   "source": [
    "## Part 3: Error rates against ground truth\n",
    "\n",
    "We calculate the annotator error rates against a ground truth for the tasks. Let's say we have the following expert consensus available for the single question given in [Part 1](#Part-1:-Data-with-a-single-question):"
   ]
  },
  {
   "cell_type": "code",
   "execution_count": 22,
   "id": "acab45b5",
   "metadata": {},
   "outputs": [],
   "source": [
    "from io import StringIO\n",
    "expert_consensus = pd.read_csv(StringIO(\"\"\"\n",
    "task,        Yes,   No\n",
    "Audi,        0.85,  0.15\n",
    "BMW,         0.90,  0.10\n",
    "GM,          0.40,  0.60\n",
    "Kia,         0.20,  0.80\n",
    "Maserati,    0.97,  0.03\n",
    "Mazda,       0.77,  0.23\n",
    "Seat,        0.35,  0.65\n",
    "\"\"\"), index_col=\"task\")\n",
    "# expert_consensus"
   ]
  },
  {
   "cell_type": "markdown",
   "id": "6ab69517",
   "metadata": {},
   "source": [
    "Calculate the error rates using Dawid-Skene model (*cf.* [Error rates](#Consensus-and-individual-error-rates) at Part 1 that were calculated without a ground truth)."
   ]
  },
  {
   "cell_type": "code",
   "execution_count": 23,
   "id": "7cdfba48",
   "metadata": {},
   "outputs": [],
   "source": [
    "ds3 = cs.factory.Factory.make(\"DawidSkene\")\n",
    "crowd_params = ds3.fit(data1.get_dcp(question=\"is_fast\"), expert_consensus.to_numpy())"
   ]
  },
  {
   "cell_type": "code",
   "execution_count": 24,
   "id": "50471390",
   "metadata": {},
   "outputs": [
    {
     "name": "stdout",
     "output_type": "stream",
     "text": [
      "Error-rate matrix of Andrew:\n",
      "[[0.75631769 0.24368231]\n",
      " [0.63004484 0.36995516]]\n",
      "Error-rate matrix of John:\n",
      "[[0.69720497 0.30279503]\n",
      " [0.33114035 0.66885965]]\n",
      "Error-rate matrix of Matthew:\n",
      "[[0.72527473 0.27472527]\n",
      " [0.51403888 0.48596112]]\n"
     ]
    }
   ],
   "source": [
    "for ann, idx in data1.annotator_index_from_id.items():\n",
    "    print(f\"Error-rate matrix of {ann}:\\n{crowd_params.pi[idx]}\")"
   ]
  },
  {
   "cell_type": "markdown",
   "id": "239c33a9",
   "metadata": {},
   "source": [
    "### Confusion matrix\n",
    "\n",
    "We generate the confusion matrix between the consensus on 'is_fast' that we calculated in [Part 1](#Consensus-and-individual-error-rates) and the expert consensus given [above](#Part-3:-Error-rates-against-ground-truth) that we use as the ground truth."
   ]
  },
  {
   "cell_type": "code",
   "execution_count": 25,
   "id": "8eedfd1a",
   "metadata": {},
   "outputs": [
    {
     "data": {
      "text/html": [
       "<div>\n",
       "<style scoped>\n",
       "    .dataframe tbody tr th:only-of-type {\n",
       "        vertical-align: middle;\n",
       "    }\n",
       "\n",
       "    .dataframe tbody tr th {\n",
       "        vertical-align: top;\n",
       "    }\n",
       "\n",
       "    .dataframe thead th {\n",
       "        text-align: right;\n",
       "    }\n",
       "</style>\n",
       "<table border=\"1\" class=\"dataframe\">\n",
       "  <thead>\n",
       "    <tr style=\"text-align: right;\">\n",
       "      <th></th>\n",
       "      <th>Yes</th>\n",
       "      <th>No</th>\n",
       "    </tr>\n",
       "    <tr>\n",
       "      <th>Ground Truth</th>\n",
       "      <th></th>\n",
       "      <th></th>\n",
       "    </tr>\n",
       "  </thead>\n",
       "  <tbody>\n",
       "    <tr>\n",
       "      <th>Yes</th>\n",
       "      <td>4</td>\n",
       "      <td>0</td>\n",
       "    </tr>\n",
       "    <tr>\n",
       "      <th>No</th>\n",
       "      <td>1</td>\n",
       "      <td>2</td>\n",
       "    </tr>\n",
       "  </tbody>\n",
       "</table>\n",
       "</div>"
      ],
      "text/plain": [
       "              Yes  No\n",
       "Ground Truth         \n",
       "Yes             4   0\n",
       "No              1   2"
      ]
     },
     "execution_count": 25,
     "metadata": {},
     "output_type": "execute_result"
    }
   ],
   "source": [
    "cs.analysis.gen_confusion_matrix(expert_consensus.to_numpy(), consensus, data1, \"is_fast\")"
   ]
  },
  {
   "cell_type": "markdown",
   "id": "82f4bd6d",
   "metadata": {},
   "source": [
    "# See also\n",
    "\n",
    "- `crowdnalysis.analysis` module to:\n",
    "  - Compare the crowd data with experts' consensus\n",
    "  - Carry out prospective analysis for hypothetical number of annotations\n",
    "- `crowdnalysis.visualization` module to:\n",
    "  - Generate HTML content for the consensus on a dataset of tasks with images\n",
    "- `crowdnalysis.cmdstan` package to use Stan models"
   ]
  }
 ],
 "metadata": {
  "kernelspec": {
   "display_name": "cs",
   "language": "python",
   "name": "cs"
  },
  "language_info": {
   "codemirror_mode": {
    "name": "ipython",
    "version": 3
   },
   "file_extension": ".py",
   "mimetype": "text/x-python",
   "name": "python",
   "nbconvert_exporter": "python",
   "pygments_lexer": "ipython3",
   "version": "3.9.7"
  }
 },
 "nbformat": 4,
 "nbformat_minor": 5
}
